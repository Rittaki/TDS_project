{
  "nbformat": 4,
  "nbformat_minor": 0,
  "metadata": {
    "colab": {
      "name": "tabular_data.ipynb",
      "provenance": [],
      "collapsed_sections": [],
      "include_colab_link": true
    },
    "kernelspec": {
      "name": "python3",
      "display_name": "Python 3"
    },
    "language_info": {
      "name": "python"
    },
    "accelerator": "GPU"
  },
  "cells": [
    {
      "cell_type": "markdown",
      "metadata": {
        "id": "view-in-github",
        "colab_type": "text"
      },
      "source": [
        "<a href=\"https://colab.research.google.com/github/Rittaki/TDS_project/blob/main/tabular_data.ipynb\" target=\"_parent\"><img src=\"https://colab.research.google.com/assets/colab-badge.svg\" alt=\"Open In Colab\"/></a>"
      ]
    },
    {
      "cell_type": "code",
      "execution_count": null,
      "metadata": {
        "id": "2p9VEb2Wna11",
        "colab": {
          "base_uri": "https://localhost:8080/"
        },
        "outputId": "b92a6583-7a86-4c51-8d7d-43e31cf5cba0"
      },
      "outputs": [
        {
          "output_type": "stream",
          "name": "stdout",
          "text": [
            "Requirement already satisfied: kaggle in /usr/local/lib/python3.7/dist-packages (1.5.12)\n",
            "Requirement already satisfied: six>=1.10 in /usr/local/lib/python3.7/dist-packages (from kaggle) (1.15.0)\n",
            "Requirement already satisfied: requests in /usr/local/lib/python3.7/dist-packages (from kaggle) (2.23.0)\n",
            "Requirement already satisfied: python-slugify in /usr/local/lib/python3.7/dist-packages (from kaggle) (6.1.1)\n",
            "Requirement already satisfied: certifi in /usr/local/lib/python3.7/dist-packages (from kaggle) (2021.10.8)\n",
            "Requirement already satisfied: python-dateutil in /usr/local/lib/python3.7/dist-packages (from kaggle) (2.8.2)\n",
            "Requirement already satisfied: tqdm in /usr/local/lib/python3.7/dist-packages (from kaggle) (4.63.0)\n",
            "Requirement already satisfied: urllib3 in /usr/local/lib/python3.7/dist-packages (from kaggle) (1.24.3)\n",
            "Requirement already satisfied: text-unidecode>=1.3 in /usr/local/lib/python3.7/dist-packages (from python-slugify->kaggle) (1.3)\n",
            "Requirement already satisfied: idna<3,>=2.5 in /usr/local/lib/python3.7/dist-packages (from requests->kaggle) (2.10)\n",
            "Requirement already satisfied: chardet<4,>=3.0.2 in /usr/local/lib/python3.7/dist-packages (from requests->kaggle) (3.0.4)\n",
            "mkdir: cannot create directory ‘dataset’: File exists\n",
            "Collecting kaggle\n",
            "  Using cached kaggle-1.5.12-py3-none-any.whl\n",
            "Installing collected packages: kaggle\n",
            "  Attempting uninstall: kaggle\n",
            "    Found existing installation: kaggle 1.5.12\n",
            "    Uninstalling kaggle-1.5.12:\n",
            "      Successfully uninstalled kaggle-1.5.12\n",
            "Successfully installed kaggle-1.5.12\n",
            "Requirement already satisfied: tf-nightly-gpu==2.8.0.dev20211106 in /usr/local/lib/python3.7/dist-packages (2.8.0.dev20211106)\n",
            "Requirement already satisfied: tf-estimator-nightly~=2.8.0.dev in /usr/local/lib/python3.7/dist-packages (from tf-nightly-gpu==2.8.0.dev20211106) (2.8.0.dev2021122109)\n",
            "Requirement already satisfied: gast<0.5.0,>=0.2.1 in /usr/local/lib/python3.7/dist-packages (from tf-nightly-gpu==2.8.0.dev20211106) (0.4.0)\n",
            "Requirement already satisfied: typing-extensions>=3.6.6 in /usr/local/lib/python3.7/dist-packages (from tf-nightly-gpu==2.8.0.dev20211106) (3.10.0.2)\n",
            "Requirement already satisfied: tensorflow-io-gcs-filesystem>=0.21.0 in /usr/local/lib/python3.7/dist-packages (from tf-nightly-gpu==2.8.0.dev20211106) (0.24.0)\n",
            "Requirement already satisfied: protobuf>=3.9.2 in /usr/local/lib/python3.7/dist-packages (from tf-nightly-gpu==2.8.0.dev20211106) (3.17.3)\n",
            "Requirement already satisfied: numpy>=1.14.5 in /usr/local/lib/python3.7/dist-packages (from tf-nightly-gpu==2.8.0.dev20211106) (1.21.5)\n",
            "Requirement already satisfied: six>=1.12.0 in /usr/local/lib/python3.7/dist-packages (from tf-nightly-gpu==2.8.0.dev20211106) (1.15.0)\n",
            "Requirement already satisfied: astunparse>=1.6.0 in /usr/local/lib/python3.7/dist-packages (from tf-nightly-gpu==2.8.0.dev20211106) (1.6.3)\n",
            "Requirement already satisfied: opt-einsum>=2.3.2 in /usr/local/lib/python3.7/dist-packages (from tf-nightly-gpu==2.8.0.dev20211106) (3.3.0)\n",
            "Requirement already satisfied: keras-preprocessing>=1.1.1 in /usr/local/lib/python3.7/dist-packages (from tf-nightly-gpu==2.8.0.dev20211106) (1.1.2)\n",
            "Requirement already satisfied: flatbuffers<3.0,>=1.12 in /usr/local/lib/python3.7/dist-packages (from tf-nightly-gpu==2.8.0.dev20211106) (2.0)\n",
            "Requirement already satisfied: libclang>=9.0.1 in /usr/local/lib/python3.7/dist-packages (from tf-nightly-gpu==2.8.0.dev20211106) (13.0.0)\n",
            "Requirement already satisfied: tb-nightly~=2.8.0.a in /usr/local/lib/python3.7/dist-packages (from tf-nightly-gpu==2.8.0.dev20211106) (2.8.0a20220120)\n",
            "Requirement already satisfied: keras-nightly~=2.8.0.dev in /usr/local/lib/python3.7/dist-packages (from tf-nightly-gpu==2.8.0.dev20211106) (2.8.0.dev2021122108)\n",
            "Requirement already satisfied: h5py>=2.9.0 in /usr/local/lib/python3.7/dist-packages (from tf-nightly-gpu==2.8.0.dev20211106) (3.1.0)\n",
            "Requirement already satisfied: termcolor>=1.1.0 in /usr/local/lib/python3.7/dist-packages (from tf-nightly-gpu==2.8.0.dev20211106) (1.1.0)\n",
            "Requirement already satisfied: absl-py>=0.4.0 in /usr/local/lib/python3.7/dist-packages (from tf-nightly-gpu==2.8.0.dev20211106) (1.0.0)\n",
            "Requirement already satisfied: google-pasta>=0.1.1 in /usr/local/lib/python3.7/dist-packages (from tf-nightly-gpu==2.8.0.dev20211106) (0.2.0)\n",
            "Requirement already satisfied: wheel<1.0,>=0.32.0 in /usr/local/lib/python3.7/dist-packages (from tf-nightly-gpu==2.8.0.dev20211106) (0.37.1)\n",
            "Requirement already satisfied: wrapt>=1.11.0 in /usr/local/lib/python3.7/dist-packages (from tf-nightly-gpu==2.8.0.dev20211106) (1.14.0)\n",
            "Requirement already satisfied: grpcio<2.0,>=1.24.3 in /usr/local/lib/python3.7/dist-packages (from tf-nightly-gpu==2.8.0.dev20211106) (1.44.0)\n",
            "Requirement already satisfied: cached-property in /usr/local/lib/python3.7/dist-packages (from h5py>=2.9.0->tf-nightly-gpu==2.8.0.dev20211106) (1.5.2)\n",
            "Requirement already satisfied: tensorboard-data-server<0.7.0,>=0.6.0 in /usr/local/lib/python3.7/dist-packages (from tb-nightly~=2.8.0.a->tf-nightly-gpu==2.8.0.dev20211106) (0.6.1)\n",
            "Requirement already satisfied: google-auth<3,>=1.6.3 in /usr/local/lib/python3.7/dist-packages (from tb-nightly~=2.8.0.a->tf-nightly-gpu==2.8.0.dev20211106) (1.35.0)\n",
            "Requirement already satisfied: requests<3,>=2.21.0 in /usr/local/lib/python3.7/dist-packages (from tb-nightly~=2.8.0.a->tf-nightly-gpu==2.8.0.dev20211106) (2.23.0)\n",
            "Requirement already satisfied: setuptools>=41.0.0 in /usr/local/lib/python3.7/dist-packages (from tb-nightly~=2.8.0.a->tf-nightly-gpu==2.8.0.dev20211106) (57.4.0)\n",
            "Requirement already satisfied: google-auth-oauthlib<0.5,>=0.4.1 in /usr/local/lib/python3.7/dist-packages (from tb-nightly~=2.8.0.a->tf-nightly-gpu==2.8.0.dev20211106) (0.4.6)\n",
            "Requirement already satisfied: tensorboard-plugin-wit>=1.6.0 in /usr/local/lib/python3.7/dist-packages (from tb-nightly~=2.8.0.a->tf-nightly-gpu==2.8.0.dev20211106) (1.8.1)\n",
            "Requirement already satisfied: markdown>=2.6.8 in /usr/local/lib/python3.7/dist-packages (from tb-nightly~=2.8.0.a->tf-nightly-gpu==2.8.0.dev20211106) (3.3.6)\n",
            "Requirement already satisfied: werkzeug>=0.11.15 in /usr/local/lib/python3.7/dist-packages (from tb-nightly~=2.8.0.a->tf-nightly-gpu==2.8.0.dev20211106) (1.0.1)\n",
            "Requirement already satisfied: rsa<5,>=3.1.4 in /usr/local/lib/python3.7/dist-packages (from google-auth<3,>=1.6.3->tb-nightly~=2.8.0.a->tf-nightly-gpu==2.8.0.dev20211106) (4.8)\n",
            "Requirement already satisfied: cachetools<5.0,>=2.0.0 in /usr/local/lib/python3.7/dist-packages (from google-auth<3,>=1.6.3->tb-nightly~=2.8.0.a->tf-nightly-gpu==2.8.0.dev20211106) (4.2.4)\n",
            "Requirement already satisfied: pyasn1-modules>=0.2.1 in /usr/local/lib/python3.7/dist-packages (from google-auth<3,>=1.6.3->tb-nightly~=2.8.0.a->tf-nightly-gpu==2.8.0.dev20211106) (0.2.8)\n",
            "Requirement already satisfied: requests-oauthlib>=0.7.0 in /usr/local/lib/python3.7/dist-packages (from google-auth-oauthlib<0.5,>=0.4.1->tb-nightly~=2.8.0.a->tf-nightly-gpu==2.8.0.dev20211106) (1.3.1)\n",
            "Requirement already satisfied: importlib-metadata>=4.4 in /usr/local/lib/python3.7/dist-packages (from markdown>=2.6.8->tb-nightly~=2.8.0.a->tf-nightly-gpu==2.8.0.dev20211106) (4.11.3)\n",
            "Requirement already satisfied: zipp>=0.5 in /usr/local/lib/python3.7/dist-packages (from importlib-metadata>=4.4->markdown>=2.6.8->tb-nightly~=2.8.0.a->tf-nightly-gpu==2.8.0.dev20211106) (3.7.0)\n",
            "Requirement already satisfied: pyasn1<0.5.0,>=0.4.6 in /usr/local/lib/python3.7/dist-packages (from pyasn1-modules>=0.2.1->google-auth<3,>=1.6.3->tb-nightly~=2.8.0.a->tf-nightly-gpu==2.8.0.dev20211106) (0.4.8)\n",
            "Requirement already satisfied: urllib3!=1.25.0,!=1.25.1,<1.26,>=1.21.1 in /usr/local/lib/python3.7/dist-packages (from requests<3,>=2.21.0->tb-nightly~=2.8.0.a->tf-nightly-gpu==2.8.0.dev20211106) (1.24.3)\n",
            "Requirement already satisfied: idna<3,>=2.5 in /usr/local/lib/python3.7/dist-packages (from requests<3,>=2.21.0->tb-nightly~=2.8.0.a->tf-nightly-gpu==2.8.0.dev20211106) (2.10)\n",
            "Requirement already satisfied: certifi>=2017.4.17 in /usr/local/lib/python3.7/dist-packages (from requests<3,>=2.21.0->tb-nightly~=2.8.0.a->tf-nightly-gpu==2.8.0.dev20211106) (2021.10.8)\n",
            "Requirement already satisfied: chardet<4,>=3.0.2 in /usr/local/lib/python3.7/dist-packages (from requests<3,>=2.21.0->tb-nightly~=2.8.0.a->tf-nightly-gpu==2.8.0.dev20211106) (3.0.4)\n",
            "Requirement already satisfied: oauthlib>=3.0.0 in /usr/local/lib/python3.7/dist-packages (from requests-oauthlib>=0.7.0->google-auth-oauthlib<0.5,>=0.4.1->tb-nightly~=2.8.0.a->tf-nightly-gpu==2.8.0.dev20211106) (3.2.0)\n"
          ]
        }
      ],
      "source": [
        "! pip install kaggle\n",
        "! mkdir dataset\n",
        "! pip install --upgrade --force-reinstall --no-deps kaggle\n",
        "!pip install tf-nightly-gpu==2.8.0.dev20211106"
      ]
    },
    {
      "cell_type": "code",
      "source": [
        "# data processing\n",
        "import numpy as np\n",
        "import pandas as pd\n",
        "\n",
        "from math import sqrt\n",
        "\n",
        "# Machine learning library\n",
        "from sklearn.metrics import mean_squared_error \n",
        "from sklearn.neighbors import KNeighborsRegressor\n",
        "from sklearn.ensemble import RandomForestRegressor\n",
        "from sklearn.ensemble import BaggingRegressor\n",
        "from sklearn.linear_model import Ridge\n",
        "from sklearn.linear_model import LinearRegression\n",
        "from sklearn.model_selection import KFold\n",
        "from sklearn.feature_selection import RFE\n",
        "from sklearn.model_selection import GridSearchCV\n",
        "from sklearn import linear_model\n",
        "\n",
        "%pip install mlxtend --upgrade\n",
        "from mlxtend.evaluate import bias_variance_decomp\n",
        "\n",
        "# data visualizations\n",
        "import matplotlib.pyplot as plt\n",
        "import seaborn as sns\n",
        "\n",
        "import warnings\n",
        "warnings.filterwarnings(\"ignore\")\n"
      ],
      "metadata": {
        "id": "JpKwKX-PBUM3",
        "colab": {
          "base_uri": "https://localhost:8080/"
        },
        "outputId": "488b4e30-243f-4b06-db20-63d71ea3c2e5"
      },
      "execution_count": null,
      "outputs": [
        {
          "output_type": "stream",
          "name": "stdout",
          "text": [
            "Requirement already satisfied: mlxtend in /usr/local/lib/python3.7/dist-packages (0.19.0)\n",
            "Requirement already satisfied: pandas>=0.24.2 in /usr/local/lib/python3.7/dist-packages (from mlxtend) (1.3.5)\n",
            "Requirement already satisfied: numpy>=1.16.2 in /usr/local/lib/python3.7/dist-packages (from mlxtend) (1.21.5)\n",
            "Requirement already satisfied: scipy>=1.2.1 in /usr/local/lib/python3.7/dist-packages (from mlxtend) (1.4.1)\n",
            "Requirement already satisfied: joblib>=0.13.2 in /usr/local/lib/python3.7/dist-packages (from mlxtend) (1.1.0)\n",
            "Requirement already satisfied: matplotlib>=3.0.0 in /usr/local/lib/python3.7/dist-packages (from mlxtend) (3.2.2)\n",
            "Requirement already satisfied: setuptools in /usr/local/lib/python3.7/dist-packages (from mlxtend) (57.4.0)\n",
            "Requirement already satisfied: scikit-learn>=0.20.3 in /usr/local/lib/python3.7/dist-packages (from mlxtend) (1.0.2)\n",
            "Requirement already satisfied: python-dateutil>=2.1 in /usr/local/lib/python3.7/dist-packages (from matplotlib>=3.0.0->mlxtend) (2.8.2)\n",
            "Requirement already satisfied: kiwisolver>=1.0.1 in /usr/local/lib/python3.7/dist-packages (from matplotlib>=3.0.0->mlxtend) (1.4.0)\n",
            "Requirement already satisfied: pyparsing!=2.0.4,!=2.1.2,!=2.1.6,>=2.0.1 in /usr/local/lib/python3.7/dist-packages (from matplotlib>=3.0.0->mlxtend) (3.0.7)\n",
            "Requirement already satisfied: cycler>=0.10 in /usr/local/lib/python3.7/dist-packages (from matplotlib>=3.0.0->mlxtend) (0.11.0)\n",
            "Requirement already satisfied: typing-extensions in /usr/local/lib/python3.7/dist-packages (from kiwisolver>=1.0.1->matplotlib>=3.0.0->mlxtend) (3.10.0.2)\n",
            "Requirement already satisfied: pytz>=2017.3 in /usr/local/lib/python3.7/dist-packages (from pandas>=0.24.2->mlxtend) (2018.9)\n",
            "Requirement already satisfied: six>=1.5 in /usr/local/lib/python3.7/dist-packages (from python-dateutil>=2.1->matplotlib>=3.0.0->mlxtend) (1.15.0)\n",
            "Requirement already satisfied: threadpoolctl>=2.0.0 in /usr/local/lib/python3.7/dist-packages (from scikit-learn>=0.20.3->mlxtend) (3.1.0)\n"
          ]
        }
      ]
    },
    {
      "cell_type": "markdown",
      "source": [
        "Reading the dataset from csv"
      ],
      "metadata": {
        "id": "JpkLjcnXnP46"
      }
    },
    {
      "cell_type": "code",
      "source": [
        "data_0 = pd.read_csv('Credit.csv', index_col='Unnamed: 0')\n",
        "data_1 = pd.read_csv('house.csv', index_col='Id').replace(to_replace=np.nan, value=0)\n",
        "cols = [\"OverallQual\",\"GrLivArea\",\"GarageCars\",\"GarageArea\",\"TotalBsmtSF\",\"FullBath\",\"YearBuilt\",\"YearRemodAdd\",\n",
        "         \"LotFrontage\",\"MSSubClass\", \"SalePrice\"]\n",
        "data_1 = data_1[cols]\n",
        "data_2 = pd.read_csv('winequality-red.csv').replace(to_replace=np.nan, value=0)\n",
        "data_3 = pd.read_csv('bodyfat.csv')\n",
        "data = data_0\n",
        "variance = []\n",
        "bias = []\n",
        "mse = []\n",
        "rmse = []"
      ],
      "metadata": {
        "id": "OHjF55Kp-H-H"
      },
      "execution_count": null,
      "outputs": []
    },
    {
      "cell_type": "markdown",
      "source": [
        "Label Encoder for replacing the categorical value with a numeric value between 0 and the number of classes minus 1"
      ],
      "metadata": {
        "id": "IkKQq2eKm2v1"
      }
    },
    {
      "cell_type": "code",
      "source": [
        "from sklearn import preprocessing\n",
        "\n",
        "le = preprocessing.LabelEncoder()\n",
        "\n",
        "columnsToEncode = list(data.select_dtypes(include=['category','object']))\n",
        "for feature in columnsToEncode:\n",
        "    try:\n",
        "        data[feature] = le.fit_transform(data[feature])\n",
        "    except:\n",
        "        print('Error encoding ' + feature)"
      ],
      "metadata": {
        "id": "TsEp_UrMnxtd"
      },
      "execution_count": null,
      "outputs": []
    },
    {
      "cell_type": "markdown",
      "source": [
        "Split the data to train and validation set (80/20)"
      ],
      "metadata": {
        "id": "biMMtTi5mgqZ"
      }
    },
    {
      "cell_type": "code",
      "source": [
        "from sklearn.model_selection import train_test_split\n",
        "\n",
        "# print(data.isna().sum())\n",
        "train, valid = train_test_split(data, test_size=0.2)\n",
        "# train[\"LotFrontage\"] = train[\"LotFrontage\"].fillna(train[\"LotFrontage\"].mean())\n",
        "# valid[\"LotFrontage\"] = valid[\"LotFrontage\"].fillna(train[\"LotFrontage\"].mean())\n",
        "# separate X from y\n",
        "size = len(train.columns)\n",
        "x_train = train.iloc[: , :-1]\n",
        "x_valid = valid.iloc[: , :-1]\n",
        "\n",
        "y_train = train.iloc[: , -1:]\n",
        "y_valid = valid.iloc[: , -1:]"
      ],
      "metadata": {
        "id": "lMT39o2WmdJK"
      },
      "execution_count": null,
      "outputs": []
    },
    {
      "cell_type": "code",
      "source": [
        "# ------------------\n",
        "# KNN PART (Regressor)\n",
        "# ------------------\n",
        "\n",
        "model_a = KNeighborsRegressor(n_neighbors=25)\n",
        "m, b, v = bias_variance_decomp(model_a, x_train.values, y_train.values.flatten(),\n",
        "                               x_valid.values, y_valid.values, loss='mse',\n",
        "                               num_rounds=200, random_seed=123)\n",
        "\n",
        "bias = np.append(bias, b)\n",
        "variance = np.append(variance,v)\n",
        "mse = np.append(mse,m)\n",
        "\n",
        "print(\"Bias is: \", b/(len(y_valid)))\n",
        "print(\"Variance is: \", v)\n",
        "\n",
        "model_a.fit(x_train, y_train)\n",
        "predicts = model_a.predict(x_valid)\n",
        "print(\"Mean: \", predicts.mean())\n",
        "error = sqrt(mean_squared_error(y_valid, predicts))\n",
        "print(\"Error rate: \", error)\n",
        "rmse = np.append(rmse,error)\n",
        "\n",
        "#plt.scatter(x_valid.values.T, y_valid.values.reshape(80,1), color=\"black\")\n",
        "fig, ax = plt.subplots(figsize=(8,5))\n",
        "sns.scatterplot(np.asarray(y_valid).reshape(-1), np.asarray(predicts).reshape(-1), ax=ax)\n",
        "sns.lineplot(np.asarray(y_valid).reshape(-1),np.asarray(y_valid).reshape(-1),ax=ax,color='black')\n",
        "ax.set_title(\"KNN\")\n",
        "\n",
        "plt.show()"
      ],
      "metadata": {
        "id": "8Q4plTpUtmkX",
        "colab": {
          "base_uri": "https://localhost:8080/",
          "height": 405
        },
        "outputId": "1816c23c-039f-440c-e044-e628345b59ea"
      },
      "execution_count": null,
      "outputs": [
        {
          "output_type": "stream",
          "name": "stdout",
          "text": [
            "Bias is:  309001.18422644504\n",
            "Variance is:  2514.6168210050005\n",
            "Mean:  548.892\n",
            "Error rate:  220.29279897445582\n"
          ]
        },
        {
          "output_type": "display_data",
          "data": {
            "text/plain": [
              "<Figure size 576x360 with 1 Axes>"
            ],
            "image/png": "[encoded data removed]"
          },
          "metadata": {
            "needs_background": "light"
          }
        }
      ]
    },
    {
      "cell_type": "code",
      "source": [
        "# ------------------\n",
        "# RANDOM FOREST PART\n",
        "# ------------------\n",
        "\n",
        "model_b = RandomForestRegressor(n_estimators=100, random_state=10)\n",
        "\n",
        "model_b.fit(x_train, y_train)\n",
        "\n",
        "predicts = model_b.predict(x_valid)\n",
        "print(\"Mean: \", predicts.mean())\n",
        "\n",
        "m2, b2, v2 = bias_variance_decomp(model_b, x_train.values, y_train.values.flatten(), \n",
        "                                  x_valid.values, y_valid.values, loss='mse', \n",
        "                                  num_rounds=200, random_seed=123)\n",
        "\n",
        "bias = np.append(bias, b2)\n",
        "variance = np.append(variance,v2)\n",
        "print(\"Bias is: \", b2/(len(y_valid)))\n",
        "print(\"Variance is: \", v2)\n",
        "\n",
        "\n",
        "error = sqrt(mean_squared_error(y_valid, predicts))\n",
        "print(\"Error rate: \", error)\n",
        "mse = np.append(mse,m2)\n",
        "rmse = np.append(rmse,error)\n",
        "\n",
        "fig, ax = plt.subplots(figsize=(8,5))\n",
        "sns.scatterplot(np.asarray(y_valid).reshape(-1), predicts, ax=ax)\n",
        "sns.lineplot(x = np.asarray(y_valid).reshape(-1), y = np.asarray(y_valid).reshape(-1), ax=ax,color='black')\n",
        "ax.set_title(\"Random Forest\")\n",
        "\n",
        "plt.show()\n",
        "\n",
        "print(\"Variance Reduction:\", str(np.round((v2/v-1)*100,2))+ '%')\n",
        "print(\"At the expense of introducing bias:\", str(np.round((b2/b-1)*100, 2)) + '%')"
      ],
      "metadata": {
        "id": "ryCV_K04oVBA",
        "colab": {
          "base_uri": "https://localhost:8080/",
          "height": 440
        },
        "outputId": "2fbd16b5-104a-40d7-8603-81aa8b2f32da"
      },
      "execution_count": null,
      "outputs": [
        {
          "output_type": "stream",
          "name": "stdout",
          "text": [
            "Mean:  570.074875\n",
            "Bias is:  360962.4616910187\n",
            "Variance is:  3461.890786331281\n",
            "Error rate:  89.47517393808184\n"
          ]
        },
        {
          "output_type": "display_data",
          "data": {
            "text/plain": [
              "<Figure size 576x360 with 1 Axes>"
            ],
            "image/png": "[encoded data removed]"
          },
          "metadata": {
            "needs_background": "light"
          }
        },
        {
          "output_type": "stream",
          "name": "stdout",
          "text": [
            "Variance Reduction: 37.67%\n",
            "At the expense of introducing bias: 16.82%\n"
          ]
        }
      ]
    },
    {
      "cell_type": "code",
      "source": [
        "# -----------------\n",
        "# L1 REGULARIZATION\n",
        "# -----------------\n",
        "\n",
        "model_e = linear_model.Lasso(alpha=0.01)\n",
        "model_e.fit(x_train, y_train)\n",
        "y_score = model_e.predict(x_valid)\n",
        "\n",
        "m3, b3, v3 = bias_variance_decomp(model_e, x_train.values, y_train.values.flatten(), x_valid.values, y_valid.values, loss='mse', num_rounds=200, random_seed=123)\n",
        "bias = np.append(bias, b3)\n",
        "variance = np.append(variance,v3)\n",
        "print(\"Bias is: \", b3/(len(y_valid)))\n",
        "print(\"Variance is: \", v3)\n",
        "\n",
        "print(\"Mean: \", y_score.mean())\n",
        "error_lin = sqrt(mean_squared_error(y_valid, y_score))\n",
        "print(\"Error rate: \", error_lin)\n",
        "mse = np.append(mse,m3)\n",
        "rmse = np.append(rmse,error_lin)\n",
        "\n",
        "fig, ax = plt.subplots(figsize=(8,5))\n",
        "sns.scatterplot(np.asarray(y_valid).reshape(-1), np.asarray(y_score).reshape(-1), ax=ax)\n",
        "sns.lineplot(np.asarray(y_valid).reshape(-1), np.asarray(y_valid).reshape(-1), ax=ax,color='black')\n",
        "ax.set_title(\"L1 Regularization\")\n",
        "\n",
        "plt.show()\n",
        "\n",
        "print(\"Variance Reduction:\", str(np.round((v3/v-1)*100,2))+ '%')\n",
        "print(\"At the expense of introducing bias:\", str(np.round((b3/b-1)*100, 2)) + '%')"
      ],
      "metadata": {
        "id": "3cTSVkXIAdN6",
        "colab": {
          "base_uri": "https://localhost:8080/",
          "height": 440
        },
        "outputId": "9581ff60-2442-4b7a-d8fe-bd949520e12b"
      },
      "execution_count": null,
      "outputs": [
        {
          "output_type": "stream",
          "name": "stdout",
          "text": [
            "Bias is:  370058.95505503163\n",
            "Variance is:  368.9633932127587\n",
            "Mean:  581.5729643686221\n",
            "Error rate:  92.6194978598026\n"
          ]
        },
        {
          "output_type": "display_data",
          "data": {
            "text/plain": [
              "<Figure size 576x360 with 1 Axes>"
            ],
            "image/png": "[encoded data removed]"
          },
          "metadata": {
            "needs_background": "light"
          }
        },
        {
          "output_type": "stream",
          "name": "stdout",
          "text": [
            "Variance Reduction: -85.33%\n",
            "At the expense of introducing bias: 19.76%\n"
          ]
        }
      ]
    },
    {
      "cell_type": "code",
      "source": [
        "# -----------------\n",
        "# L2 REGULARIZATION\n",
        "# -----------------\n",
        "\n",
        "model_c = Ridge()\n",
        "model_c.fit(x_train, y_train)\n",
        "\n",
        "# predict values of x_valid\n",
        "y_score = model_c.predict(x_valid)\n",
        "error_lin = sqrt(mean_squared_error(y_valid, y_score))\n",
        "\n",
        "m4, b4, v4 = bias_variance_decomp(model_c, x_train.values, y_train.values.flatten(), x_valid.values, y_valid.values, loss='mse', num_rounds=200, random_seed=123)\n",
        "bias = np.append(bias, b4)\n",
        "variance = np.append(variance,v4)\n",
        "print(\"Bias is: \", b4/(len(y_valid)))\n",
        "print(\"Variance is: \", v4)\n",
        "\n",
        "print(\"Mean: \", y_score.mean())\n",
        "error_lin = sqrt(mean_squared_error(y_valid, y_score))\n",
        "print(\"Error rate: \", error_lin)\n",
        "rmse = np.append(rmse,error_lin)\n",
        "mse = np.append(mse,m4)\n",
        "\n",
        "fig, ax = plt.subplots(figsize=(8,5))\n",
        "sns.scatterplot(np.asarray(y_valid).reshape(-1), np.asarray(y_score).reshape(-1), ax=ax)\n",
        "sns.lineplot(np.asarray(y_valid).reshape(-1), np.asarray(y_valid).reshape(-1), ax=ax,color='black')\n",
        "ax.set_title(\"L2 Regularization\")\n",
        "\n",
        "plt.show()\n",
        "\n",
        "print(\"Variance Reduction:\", str(np.round((v4/v-1)*100,2))+ '%')\n",
        "print(\"At the expense of introducing bias:\", str(np.round((b4/b-1)*100, 2)) + '%')"
      ],
      "metadata": {
        "id": "cnksTQGeAUDN",
        "colab": {
          "base_uri": "https://localhost:8080/",
          "height": 440
        },
        "outputId": "2545270d-22a2-40e7-8f66-0a2f91852918"
      },
      "execution_count": null,
      "outputs": [
        {
          "output_type": "stream",
          "name": "stdout",
          "text": [
            "Bias is:  368532.80271439935\n",
            "Variance is:  368.098844355009\n",
            "Mean:  581.7664642065165\n",
            "Error rate:  93.653145034186\n"
          ]
        },
        {
          "output_type": "display_data",
          "data": {
            "text/plain": [
              "<Figure size 576x360 with 1 Axes>"
            ],
            "image/png": "[encoded data removed]"
          },
          "metadata": {
            "needs_background": "light"
          }
        },
        {
          "output_type": "stream",
          "name": "stdout",
          "text": [
            "Variance Reduction: -85.36%\n",
            "At the expense of introducing bias: 19.27%\n"
          ]
        }
      ]
    },
    {
      "cell_type": "code",
      "source": [
        "# ------------------------------------\n",
        "# BAGGING (Bootstrap aggregating) PART\n",
        "# ------------------------------------\n",
        "\n",
        "regr = BaggingRegressor(base_estimator=None, n_estimators=100, random_state=1)\n",
        "regr.fit(x_train, y_train)\n",
        "y_score = regr.predict(x_valid)\n",
        "\n",
        "m5, b5, v5 = bias_variance_decomp(regr, x_train.values, y_train.values.flatten(), \n",
        "                                  x_valid.values, y_valid.values, loss='mse', \n",
        "                                  num_rounds=200, random_seed=123)\n",
        "bias = np.append(bias, b5)\n",
        "variance = np.append(variance,v5)\n",
        "print(\"Bias is: \", b5/(len(y_valid)))\n",
        "print(\"Variance is: \", v5)\n",
        "\n",
        "print(\"Mean: \", y_score.mean())\n",
        "error_lin = sqrt(mean_squared_error(y_valid, y_score))\n",
        "print(\"Error rate: \", error_lin)\n",
        "rmse = np.append(rmse,error_lin)\n",
        "mse = np.append(mse,m5)\n",
        "\n",
        "fig, ax = plt.subplots(figsize=(8,5))\n",
        "sns.scatterplot(np.asarray(y_valid).reshape(-1), np.asarray(y_score).reshape(-1), ax=ax)\n",
        "sns.lineplot(np.asarray(y_valid).reshape(-1), np.asarray(y_valid).reshape(-1), ax=ax,color='black')\n",
        "ax.set_title(\"Bagging\")\n",
        "\n",
        "plt.show()\n",
        "\n",
        "print(\"Variance Reduction:\", str(np.round((v5/v-1)*100,2))+ '%')\n",
        "print(\"At the expense of introducing bias:\", str(np.round((b5/b-1)*100, 2)) + '%')"
      ],
      "metadata": {
        "id": "FUZ47C1Y5hYa",
        "colab": {
          "base_uri": "https://localhost:8080/",
          "height": 440
        },
        "outputId": "5b492d5f-7c11-49d1-c01a-ed41aafe8786"
      },
      "execution_count": null,
      "outputs": [
        {
          "output_type": "stream",
          "name": "stdout",
          "text": [
            "Bias is:  360852.3541599776\n",
            "Variance is:  3395.0734815349374\n",
            "Mean:  569.968375\n",
            "Error rate:  86.8473017643611\n"
          ]
        },
        {
          "output_type": "display_data",
          "data": {
            "text/plain": [
              "<Figure size 576x360 with 1 Axes>"
            ],
            "image/png": "[encoded data removed]"
          },
          "metadata": {
            "needs_background": "light"
          }
        },
        {
          "output_type": "stream",
          "name": "stdout",
          "text": [
            "Variance Reduction: 35.01%\n",
            "At the expense of introducing bias: 16.78%\n"
          ]
        }
      ]
    },
    {
      "cell_type": "code",
      "source": [
        "# ---------------------\n",
        "# CROSS VALIDATION PART\n",
        "# ---------------------\n",
        "\n",
        "feat_num = len(x_train.columns)\n",
        "# Create a cross-validation scheme\n",
        "cv = KFold(n_splits=5, random_state=10, shuffle=True)\n",
        "\n",
        "# Specify range of hyperparameters to tune\n",
        "hyper_params = [{'n_features_to_select': list(range(1, feat_num + 1))}]\n",
        "\n",
        "# Perform grid search\n",
        "# 1. specify model\n",
        "\n",
        "lin_mod = LinearRegression()\n",
        "lin_mod.fit(x_train, y_train)\n",
        "rfe = RFE(lin_mod) \n",
        "\n",
        "# 2. call GridSearchCV()\n",
        "model_cv = GridSearchCV(estimator=rfe, param_grid=hyper_params, scoring='r2',\n",
        "                        cv=cv, verbose=1, return_train_score=True)      \n",
        "# fit the model\n",
        "model_cv.fit(x_train, y_train)\n",
        "\n",
        "# cv results\n",
        "cv_results = pd.DataFrame(model_cv.cv_results_)\n",
        "result = model_cv.fit(x_train, y_train)\n",
        "\n",
        "# summarize result\n",
        "print('Best Score: %s' % result.best_score_)\n",
        "print('Best Hyperparameters: %s' % result.best_params_)\n"
      ],
      "metadata": {
        "id": "zUKdeHnSAMZN",
        "colab": {
          "base_uri": "https://localhost:8080/"
        },
        "outputId": "fceebfa4-c28e-4475-d6b0-c730cf6cc6a6"
      },
      "execution_count": null,
      "outputs": [
        {
          "output_type": "stream",
          "name": "stdout",
          "text": [
            "Fitting 5 folds for each of 10 candidates, totalling 50 fits\n",
            "Fitting 5 folds for each of 10 candidates, totalling 50 fits\n",
            "Best Score: 0.94942136770197\n",
            "Best Hyperparameters: {'n_features_to_select': 10}\n"
          ]
        }
      ]
    },
    {
      "cell_type": "markdown",
      "source": [
        "So our Cross-Validation model will have 10 features (the number that we got for current run)"
      ],
      "metadata": {
        "id": "ucG7SqthmIks"
      }
    },
    {
      "cell_type": "code",
      "source": [
        "# final model\n",
        "n_features_optimal = 10\n",
        "lin_mod = LinearRegression()\n",
        "lin_mod.fit(x_train, y_train)\n",
        "\n",
        "rfe = RFE(lin_mod, n_features_to_select=n_features_optimal)           \n",
        "rfe = rfe.fit(x_train, y_train)\n",
        "\n",
        "# predict values of x_valid\n",
        "y_score = rfe.predict(x_valid)\n",
        "error_lin = sqrt(mean_squared_error(y_valid, y_score))\n",
        "\n",
        "m6, b6, v6 = bias_variance_decomp(rfe, x_train.values, y_train.values.flatten(), x_valid.values, y_valid.values, loss='mse', num_rounds=200, random_seed=123)\n",
        "bias = np.append(bias, b6)\n",
        "variance = np.append(variance,v6)\n",
        "rmse = np.append(rmse,error_lin)\n",
        "mse = np.append(mse,m6)\n",
        "print(\"Bias is: \", b6/(len(y_valid)))\n",
        "print(\"Variance is: \", v6)\n",
        "\n",
        "print(\"Mean: \", y_score.mean())\n",
        "error_lin = sqrt(mean_squared_error(y_valid, y_score))\n",
        "print(\"Error rate: \", error_lin)\n",
        "\n",
        "fig, ax = plt.subplots(figsize=(8,5))\n",
        "sns.scatterplot(np.asarray(y_valid).reshape(-1), np.asarray(y_score).reshape(-1), ax=ax)\n",
        "sns.lineplot(np.asarray(y_valid).reshape(-1), np.asarray(y_valid).reshape(-1), ax=ax,color='black')\n",
        "ax.set_title(\"Cross-Validation\")\n",
        "\n",
        "plt.show()\n",
        "\n",
        "print(\"Variance Reduction:\", str(np.round((v6/v-1)*100,2))+ '%')\n",
        "print(\"At the expense of introducing bias:\", str(np.round((b6/b-1)*100, 2)) + '%')"
      ],
      "metadata": {
        "id": "UROLyMvimF0P",
        "colab": {
          "base_uri": "https://localhost:8080/",
          "height": 440
        },
        "outputId": "ebdc98f8-c2e7-4f03-d724-1dba6b7e43bc"
      },
      "execution_count": null,
      "outputs": [
        {
          "output_type": "stream",
          "name": "stdout",
          "text": [
            "Bias is:  370093.3954991131\n",
            "Variance is:  371.1520692970416\n",
            "Mean:  581.5839165932917\n",
            "Error rate:  92.61704859599224\n"
          ]
        },
        {
          "output_type": "display_data",
          "data": {
            "text/plain": [
              "<Figure size 576x360 with 1 Axes>"
            ],
            "image/png": "[encoded data removed]"
          },
          "metadata": {
            "needs_background": "light"
          }
        },
        {
          "output_type": "stream",
          "name": "stdout",
          "text": [
            "Variance Reduction: -85.24%\n",
            "At the expense of introducing bias: 19.77%\n"
          ]
        }
      ]
    },
    {
      "cell_type": "code",
      "source": [
        "# -------------------------------------\n",
        "# CROSS VALIDATION + RANDOM FOREST PART\n",
        "# -------------------------------------\n",
        "\n",
        "feat_num = len(x_train.columns)\n",
        "# Create a cross-validation scheme\n",
        "cv = KFold(n_splits=5, random_state=10, shuffle=True)\n",
        "\n",
        "# Specify range of hyperparameters to tune\n",
        "hyper_params = [{'n_features_to_select': list(range(1, feat_num + 1))}]\n",
        "\n",
        "# Perform grid search\n",
        "# 1. specify model\n",
        "rfe = RFE(model_b) \n",
        "\n",
        "# 2. call GridSearchCV()\n",
        "model_cv = GridSearchCV(estimator = rfe, \n",
        "                        param_grid = hyper_params, \n",
        "                        scoring= 'r2', \n",
        "                        cv = cv, \n",
        "                        verbose = 1,\n",
        "                        return_train_score=True)  \n",
        "model_cv.fit(x_train, y_train)\n",
        "\n",
        "# cv results\n",
        "cv_results = pd.DataFrame(model_cv.cv_results_)\n",
        "\n",
        "result = model_cv.fit(x_train, y_train)\n",
        "\n",
        "# summarize result\n",
        "print('Best Score: %s' % result.best_score_)\n",
        "print('Best Hyperparameters: %s' % result.best_params_)\n"
      ],
      "metadata": {
        "id": "hRDEDoEDD8xH",
        "colab": {
          "base_uri": "https://localhost:8080/"
        },
        "outputId": "b6fc62ed-31bc-4ebb-f4af-befb21b1a842"
      },
      "execution_count": null,
      "outputs": [
        {
          "output_type": "stream",
          "name": "stdout",
          "text": [
            "Fitting 5 folds for each of 10 candidates, totalling 50 fits\n",
            "Fitting 5 folds for each of 10 candidates, totalling 50 fits\n",
            "Best Score: 0.9499672253961082\n",
            "Best Hyperparameters: {'n_features_to_select': 4}\n"
          ]
        }
      ]
    },
    {
      "cell_type": "markdown",
      "source": [
        "So our Cross-Validation & Random Forest model will have 4 features (the number that we got for current run)"
      ],
      "metadata": {
        "id": "I1C33lwXmlgg"
      }
    },
    {
      "cell_type": "code",
      "source": [
        "n_features_optimal = 4\n",
        "\n",
        "rfe = RFE(model_b, n_features_to_select=n_features_optimal)            \n",
        "rfe = rfe.fit(x_train, y_train)\n",
        "\n",
        "# predict values of x_valid\n",
        "y_score = rfe.predict(x_valid)\n",
        "\n",
        "print(\"Mean: \", y_score.mean())\n",
        "error_lin = sqrt(mean_squared_error(y_valid, y_score))\n",
        "print(\"Error rate: \", error_lin)\n",
        "\n",
        "m7, b7, v7 = bias_variance_decomp(rfe, x_train.values, y_train.values.flatten(), x_valid.values, y_valid.values, loss='mse', num_rounds=200, random_seed=123)\n",
        "bias = np.append(bias, b7)\n",
        "variance = np.append(variance,v7)\n",
        "rmse = np.append(rmse,error_lin)\n",
        "mse = np.append(mse,m7)\n",
        "print(\"Bias is: \", b7/(len(y_valid)))\n",
        "print(\"Variance is: \", v7)\n",
        "\n",
        "fig, ax = plt.subplots(figsize=(8,5))\n",
        "sns.scatterplot(np.asarray(y_valid).reshape(-1), np.asarray(y_score).reshape(-1), ax=ax)\n",
        "sns.lineplot(np.asarray(y_valid).reshape(-1), np.asarray(y_valid).reshape(-1), ax=ax,color='black')\n",
        "ax.set_title(\"Cross-Validation & Random Forest\")\n",
        "\n",
        "plt.show()\n",
        "\n",
        "print(\"Variance Reduction:\", str(np.round((v7/v-1)*100,2))+ '%')\n",
        "print(\"At the expense of introducing bias:\", str(np.round((b7/b-1)*100, 2)) + '%')"
      ],
      "metadata": {
        "id": "7ch1w5SPmiYR",
        "colab": {
          "base_uri": "https://localhost:8080/",
          "height": 440
        },
        "outputId": "1a34fb9c-f1e1-4ed4-9e05-77aa59358c8a"
      },
      "execution_count": null,
      "outputs": [
        {
          "output_type": "stream",
          "name": "stdout",
          "text": [
            "Mean:  573.66175\n",
            "Error rate:  81.70568038698413\n",
            "Bias is:  368609.68527221767\n",
            "Variance is:  3084.82597686975\n"
          ]
        },
        {
          "output_type": "display_data",
          "data": {
            "text/plain": [
              "<Figure size 576x360 with 1 Axes>"
            ],
            "image/png": "[encoded data removed]"
          },
          "metadata": {
            "needs_background": "light"
          }
        },
        {
          "output_type": "stream",
          "name": "stdout",
          "text": [
            "Variance Reduction: 22.68%\n",
            "At the expense of introducing bias: 19.29%\n"
          ]
        }
      ]
    },
    {
      "cell_type": "markdown",
      "source": [
        "The A, B, C, D, E, F, G labels are state for Knn, Random Forest, Regularization 1, Regularization 2, Bagging, Cross-validation, Cross-validation + Random Forest"
      ],
      "metadata": {
        "id": "dJzc9TYNnirr"
      }
    },
    {
      "cell_type": "code",
      "source": [
        "bias1 = np.sqrt(bias/(len(y_valid)))\n",
        "\n",
        "# Set position of bar on X axis\n",
        "barWidth = 0.25\n",
        "\n",
        "r1 = np.arange(len(bias))\n",
        "r2 = [x + barWidth for x in r1]\n",
        "r3 = [x + barWidth for x in r2]\n",
        "\n",
        "# Make the plot\n",
        "plt.bar(r1, bias1, color='#7f6d5f', width=barWidth, edgecolor='white', label='bias')\n",
        "plt.bar(r2, variance, color='#557f2d', width=barWidth, edgecolor='white', label='variance')\n",
        "plt.bar(r3, np.sqrt(mse), color='#6749fc', width=barWidth, edgecolor='white', label='rmse')\n",
        "\n",
        "# Add xticks on the middle of the group bars\n",
        "plt.xlabel('group', fontweight='bold')\n",
        "labels = ['Knn','Random Forest','Regularizarion1','Regularizarion2','Bagging','Cross-validation','Cross-validation + Random Forest']\n",
        "plt.xticks([r + barWidth for r in range(len(bias))], ['A', 'B', 'C', 'D', 'E','F','G'])\n",
        " \n",
        "# Create legend & Show graphic\n",
        "plt.legend()\n",
        "plt.show()"
      ],
      "metadata": {
        "id": "KlXpNJj9mPBs",
        "colab": {
          "base_uri": "https://localhost:8080/",
          "height": 279
        },
        "outputId": "fc10e99b-219b-40d9-f464-9ef2f54ebbb6"
      },
      "execution_count": null,
      "outputs": [
        {
          "output_type": "display_data",
          "data": {
            "text/plain": [
              "<Figure size 432x288 with 1 Axes>"
            ],
            "image/png": "[encoded data removed]"
          },
          "metadata": {
            "needs_background": "light"
          }
        }
      ]
    },
    {
      "cell_type": "code",
      "source": [
        "barWidth = 0.25\n",
        "\n",
        "r1 = np.arange(len(bias))\n",
        "\n",
        "# Make the plot\n",
        "plt.bar(r1, bias1, color='#7f6d5f', width=barWidth, edgecolor='white', label='bias')\n",
        "# Add xticks on the middle of the group bars\n",
        "plt.xlabel('group', fontweight='bold')\n",
        "plt.xticks([r + barWidth for r in range(len(bias))], ['A', 'B', 'C', 'D', 'E','F','G'])\n",
        " \n",
        "# Create legend & Show graphic\n",
        "plt.legend()\n",
        "plt.show()"
      ],
      "metadata": {
        "id": "Quod1_zNh3si",
        "colab": {
          "base_uri": "https://localhost:8080/",
          "height": 279
        },
        "outputId": "3fb3aa2f-2de1-4cf1-b27a-80fcaef338d0"
      },
      "execution_count": null,
      "outputs": [
        {
          "output_type": "display_data",
          "data": {
            "text/plain": [
              "<Figure size 432x288 with 1 Axes>"
            ],
            "image/png": "[encoded data removed]"
          },
          "metadata": {
            "needs_background": "light"
          }
        }
      ]
    },
    {
      "cell_type": "code",
      "source": [
        "barWidth = 0.25\n",
        " \n",
        "# Make the plot\n",
        "r2 = np.arange(len(variance))\n",
        "r3 = [x + barWidth for x in r2]\n",
        "plt.bar(r2, variance, color='#557f2d', width=barWidth, edgecolor='white', label='variance')\n",
        "plt.bar(r3, np.sqrt(mse), color='#6749fc', width=barWidth, edgecolor='white', label='rmse')\n",
        "\n",
        "\n",
        "# Add xticks on the middle of the group bars\n",
        "plt.xlabel('group', fontweight='bold')\n",
        "plt.xticks([r + barWidth for r in range(len(variance))], ['A', 'B', 'C', 'D', 'E','F','G'])\n",
        " \n",
        "# Create legend & Show graphic\n",
        "plt.legend()\n",
        "plt.show()"
      ],
      "metadata": {
        "id": "2wj4V1ODicfO",
        "colab": {
          "base_uri": "https://localhost:8080/",
          "height": 279
        },
        "outputId": "3bf9bac6-5991-4d50-9398-e89b7586ddb9"
      },
      "execution_count": null,
      "outputs": [
        {
          "output_type": "display_data",
          "data": {
            "text/plain": [
              "<Figure size 432x288 with 1 Axes>"
            ],
            "image/png": "[encoded data removed]"
          },
          "metadata": {
            "needs_background": "light"
          }
        }
      ]
    },
    {
      "cell_type": "code",
      "source": [
        "barWidth = 0.25\n",
        "\n",
        "# Make the plot\n",
        "r2 = np.arange(len(variance))\n",
        "plt.bar(r2, np.sqrt(mse), color='#557f2d', width=barWidth, edgecolor='white', label='rmse')\n",
        "\n",
        "# Add xticks on the middle of the group bars\n",
        "plt.xlabel('group', fontweight='bold')\n",
        "plt.xticks([r + barWidth for r in range(len(variance))], ['A', 'B', 'C', 'D', 'E','F','G'])\n",
        " \n",
        "# Create legend & Show graphic\n",
        "plt.legend()\n",
        "plt.show()"
      ],
      "metadata": {
        "id": "FwOkM0n5719M",
        "colab": {
          "base_uri": "https://localhost:8080/",
          "height": 279
        },
        "outputId": "527cccba-a0e5-4ec6-821c-441e5e0081e6"
      },
      "execution_count": null,
      "outputs": [
        {
          "output_type": "display_data",
          "data": {
            "text/plain": [
              "<Figure size 432x288 with 1 Axes>"
            ],
            "image/png": "[encoded data removed]"
          },
          "metadata": {
            "needs_background": "light"
          }
        }
      ]
    },
    {
      "cell_type": "markdown",
      "source": [
        "After we sorted our results from the best to the worstest, this is the algorithm that we got that performs the best results:"
      ],
      "metadata": {
        "id": "iSAsr_s8nMtP"
      }
    },
    {
      "cell_type": "code",
      "source": [
        "index = [0,1,2,3,4,5,6]\n",
        "\n",
        "rmse,index = zip(*sorted(zip(rmse, index)))\n",
        "min = index[0]\n",
        "\n",
        "\n",
        "print(\"The best algorithm for this dataset is: \", end =\" \")\n",
        "print(labels[min])"
      ],
      "metadata": {
        "id": "rMitoNOMJNYw",
        "colab": {
          "base_uri": "https://localhost:8080/"
        },
        "outputId": "35796675-be8b-47bf-9500-2a0b139ba4f3"
      },
      "execution_count": null,
      "outputs": [
        {
          "output_type": "stream",
          "name": "stdout",
          "text": [
            "The best algorithm for this dataset is:  Cross-validation + Random Forest\n"
          ]
        }
      ]
    }
  ]
}