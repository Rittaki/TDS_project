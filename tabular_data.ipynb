{
  "nbformat": 4,
  "nbformat_minor": 0,
  "metadata": {
    "colab": {
      "name": "tabular_data.ipynb",
      "provenance": [],
      "collapsed_sections": [],
      "include_colab_link": true
    },
    "kernelspec": {
      "name": "python3",
      "display_name": "Python 3"
    },
    "language_info": {
      "name": "python"
    },
    "accelerator": "GPU"
  },
  "cells": [
    {
      "cell_type": "markdown",
      "metadata": {
        "id": "view-in-github",
        "colab_type": "text"
      },
      "source": [
        "<a href=\"https://colab.research.google.com/github/Rittaki/TDS_project/blob/main/tabular_data.ipynb\" target=\"_parent\"><img src=\"https://colab.research.google.com/assets/colab-badge.svg\" alt=\"Open In Colab\"/></a>"
      ]
    },
    {
      "cell_type": "code",
      "execution_count": 1,
      "metadata": {
        "id": "2p9VEb2Wna11",
        "colab": {
          "base_uri": "https://localhost:8080/"
        },
        "outputId": "ecac8a02-6264-4622-8a44-0b81b44361d0"
      },
      "outputs": [
        {
          "output_type": "stream",
          "name": "stdout",
          "text": [
            "Requirement already satisfied: kaggle in /usr/local/lib/python3.7/dist-packages (1.5.12)\n",
            "Requirement already satisfied: requests in /usr/local/lib/python3.7/dist-packages (from kaggle) (2.23.0)\n",
            "Requirement already satisfied: six>=1.10 in /usr/local/lib/python3.7/dist-packages (from kaggle) (1.15.0)\n",
            "Requirement already satisfied: python-dateutil in /usr/local/lib/python3.7/dist-packages (from kaggle) (2.8.2)\n",
            "Requirement already satisfied: tqdm in /usr/local/lib/python3.7/dist-packages (from kaggle) (4.63.0)\n",
            "Requirement already satisfied: urllib3 in /usr/local/lib/python3.7/dist-packages (from kaggle) (1.24.3)\n",
            "Requirement already satisfied: python-slugify in /usr/local/lib/python3.7/dist-packages (from kaggle) (6.1.1)\n",
            "Requirement already satisfied: certifi in /usr/local/lib/python3.7/dist-packages (from kaggle) (2021.10.8)\n",
            "Requirement already satisfied: text-unidecode>=1.3 in /usr/local/lib/python3.7/dist-packages (from python-slugify->kaggle) (1.3)\n",
            "Requirement already satisfied: chardet<4,>=3.0.2 in /usr/local/lib/python3.7/dist-packages (from requests->kaggle) (3.0.4)\n",
            "Requirement already satisfied: idna<3,>=2.5 in /usr/local/lib/python3.7/dist-packages (from requests->kaggle) (2.10)\n",
            "Collecting kaggle\n",
            "  Downloading kaggle-1.5.12.tar.gz (58 kB)\n",
            "\u001b[K     |████████████████████████████████| 58 kB 1.3 MB/s \n",
            "\u001b[?25hBuilding wheels for collected packages: kaggle\n",
            "  Building wheel for kaggle (setup.py) ... \u001b[?25l\u001b[?25hdone\n",
            "  Created wheel for kaggle: filename=kaggle-1.5.12-py3-none-any.whl size=73051 sha256=534310a1893a67558b59b4de106dec41674fef7812b532e2dfa69c2e3f8b700d\n",
            "  Stored in directory: /root/.cache/pip/wheels/62/d6/58/5853130f941e75b2177d281eb7e44b4a98ed46dd155f556dc5\n",
            "Successfully built kaggle\n",
            "Installing collected packages: kaggle\n",
            "  Attempting uninstall: kaggle\n",
            "    Found existing installation: kaggle 1.5.12\n",
            "    Uninstalling kaggle-1.5.12:\n",
            "      Successfully uninstalled kaggle-1.5.12\n",
            "Successfully installed kaggle-1.5.12\n",
            "Collecting tf-nightly-gpu==2.8.0.dev20211106\n",
            "  Downloading tf_nightly_gpu-2.8.0.dev20211106-cp37-cp37m-manylinux2010_x86_64.whl (492.5 MB)\n",
            "\u001b[K     |████████████████████████████████| 492.5 MB 34 kB/s \n",
            "\u001b[?25hCollecting tb-nightly~=2.8.0.a\n",
            "  Downloading tb_nightly-2.8.0a20220120-py3-none-any.whl (5.8 MB)\n",
            "\u001b[K     |████████████████████████████████| 5.8 MB 22.8 MB/s \n",
            "\u001b[?25hRequirement already satisfied: opt-einsum>=2.3.2 in /usr/local/lib/python3.7/dist-packages (from tf-nightly-gpu==2.8.0.dev20211106) (3.3.0)\n",
            "Requirement already satisfied: astunparse>=1.6.0 in /usr/local/lib/python3.7/dist-packages (from tf-nightly-gpu==2.8.0.dev20211106) (1.6.3)\n",
            "Requirement already satisfied: tensorflow-io-gcs-filesystem>=0.21.0 in /usr/local/lib/python3.7/dist-packages (from tf-nightly-gpu==2.8.0.dev20211106) (0.24.0)\n",
            "Requirement already satisfied: wheel<1.0,>=0.32.0 in /usr/local/lib/python3.7/dist-packages (from tf-nightly-gpu==2.8.0.dev20211106) (0.37.1)\n",
            "Requirement already satisfied: numpy>=1.14.5 in /usr/local/lib/python3.7/dist-packages (from tf-nightly-gpu==2.8.0.dev20211106) (1.21.5)\n",
            "Requirement already satisfied: six>=1.12.0 in /usr/local/lib/python3.7/dist-packages (from tf-nightly-gpu==2.8.0.dev20211106) (1.15.0)\n",
            "Requirement already satisfied: typing-extensions>=3.6.6 in /usr/local/lib/python3.7/dist-packages (from tf-nightly-gpu==2.8.0.dev20211106) (3.10.0.2)\n",
            "Requirement already satisfied: grpcio<2.0,>=1.24.3 in /usr/local/lib/python3.7/dist-packages (from tf-nightly-gpu==2.8.0.dev20211106) (1.44.0)\n",
            "Requirement already satisfied: protobuf>=3.9.2 in /usr/local/lib/python3.7/dist-packages (from tf-nightly-gpu==2.8.0.dev20211106) (3.17.3)\n",
            "Requirement already satisfied: termcolor>=1.1.0 in /usr/local/lib/python3.7/dist-packages (from tf-nightly-gpu==2.8.0.dev20211106) (1.1.0)\n",
            "Requirement already satisfied: libclang>=9.0.1 in /usr/local/lib/python3.7/dist-packages (from tf-nightly-gpu==2.8.0.dev20211106) (13.0.0)\n",
            "Requirement already satisfied: wrapt>=1.11.0 in /usr/local/lib/python3.7/dist-packages (from tf-nightly-gpu==2.8.0.dev20211106) (1.14.0)\n",
            "Collecting gast<0.5.0,>=0.2.1\n",
            "  Downloading gast-0.4.0-py3-none-any.whl (9.8 kB)\n",
            "Collecting keras-nightly~=2.8.0.dev\n",
            "  Downloading keras_nightly-2.8.0.dev2021122108-py2.py3-none-any.whl (1.4 MB)\n",
            "\u001b[K     |████████████████████████████████| 1.4 MB 46.2 MB/s \n",
            "\u001b[?25hRequirement already satisfied: keras-preprocessing>=1.1.1 in /usr/local/lib/python3.7/dist-packages (from tf-nightly-gpu==2.8.0.dev20211106) (1.1.2)\n",
            "Collecting tf-estimator-nightly~=2.8.0.dev\n",
            "  Downloading tf_estimator_nightly-2.8.0.dev2021122109-py2.py3-none-any.whl (462 kB)\n",
            "\u001b[K     |████████████████████████████████| 462 kB 52.4 MB/s \n",
            "\u001b[?25hRequirement already satisfied: h5py>=2.9.0 in /usr/local/lib/python3.7/dist-packages (from tf-nightly-gpu==2.8.0.dev20211106) (3.1.0)\n",
            "Requirement already satisfied: google-pasta>=0.1.1 in /usr/local/lib/python3.7/dist-packages (from tf-nightly-gpu==2.8.0.dev20211106) (0.2.0)\n",
            "Requirement already satisfied: absl-py>=0.4.0 in /usr/local/lib/python3.7/dist-packages (from tf-nightly-gpu==2.8.0.dev20211106) (1.0.0)\n",
            "Requirement already satisfied: flatbuffers<3.0,>=1.12 in /usr/local/lib/python3.7/dist-packages (from tf-nightly-gpu==2.8.0.dev20211106) (2.0)\n",
            "Requirement already satisfied: cached-property in /usr/local/lib/python3.7/dist-packages (from h5py>=2.9.0->tf-nightly-gpu==2.8.0.dev20211106) (1.5.2)\n",
            "Requirement already satisfied: werkzeug>=0.11.15 in /usr/local/lib/python3.7/dist-packages (from tb-nightly~=2.8.0.a->tf-nightly-gpu==2.8.0.dev20211106) (1.0.1)\n",
            "Requirement already satisfied: google-auth-oauthlib<0.5,>=0.4.1 in /usr/local/lib/python3.7/dist-packages (from tb-nightly~=2.8.0.a->tf-nightly-gpu==2.8.0.dev20211106) (0.4.6)\n",
            "Requirement already satisfied: setuptools>=41.0.0 in /usr/local/lib/python3.7/dist-packages (from tb-nightly~=2.8.0.a->tf-nightly-gpu==2.8.0.dev20211106) (57.4.0)\n",
            "Requirement already satisfied: tensorboard-data-server<0.7.0,>=0.6.0 in /usr/local/lib/python3.7/dist-packages (from tb-nightly~=2.8.0.a->tf-nightly-gpu==2.8.0.dev20211106) (0.6.1)\n",
            "Requirement already satisfied: tensorboard-plugin-wit>=1.6.0 in /usr/local/lib/python3.7/dist-packages (from tb-nightly~=2.8.0.a->tf-nightly-gpu==2.8.0.dev20211106) (1.8.1)\n",
            "Requirement already satisfied: markdown>=2.6.8 in /usr/local/lib/python3.7/dist-packages (from tb-nightly~=2.8.0.a->tf-nightly-gpu==2.8.0.dev20211106) (3.3.6)\n",
            "Requirement already satisfied: requests<3,>=2.21.0 in /usr/local/lib/python3.7/dist-packages (from tb-nightly~=2.8.0.a->tf-nightly-gpu==2.8.0.dev20211106) (2.23.0)\n",
            "Requirement already satisfied: google-auth<3,>=1.6.3 in /usr/local/lib/python3.7/dist-packages (from tb-nightly~=2.8.0.a->tf-nightly-gpu==2.8.0.dev20211106) (1.35.0)\n",
            "Requirement already satisfied: rsa<5,>=3.1.4 in /usr/local/lib/python3.7/dist-packages (from google-auth<3,>=1.6.3->tb-nightly~=2.8.0.a->tf-nightly-gpu==2.8.0.dev20211106) (4.8)\n",
            "Requirement already satisfied: pyasn1-modules>=0.2.1 in /usr/local/lib/python3.7/dist-packages (from google-auth<3,>=1.6.3->tb-nightly~=2.8.0.a->tf-nightly-gpu==2.8.0.dev20211106) (0.2.8)\n",
            "Requirement already satisfied: cachetools<5.0,>=2.0.0 in /usr/local/lib/python3.7/dist-packages (from google-auth<3,>=1.6.3->tb-nightly~=2.8.0.a->tf-nightly-gpu==2.8.0.dev20211106) (4.2.4)\n",
            "Requirement already satisfied: requests-oauthlib>=0.7.0 in /usr/local/lib/python3.7/dist-packages (from google-auth-oauthlib<0.5,>=0.4.1->tb-nightly~=2.8.0.a->tf-nightly-gpu==2.8.0.dev20211106) (1.3.1)\n",
            "Requirement already satisfied: importlib-metadata>=4.4 in /usr/local/lib/python3.7/dist-packages (from markdown>=2.6.8->tb-nightly~=2.8.0.a->tf-nightly-gpu==2.8.0.dev20211106) (4.11.3)\n",
            "Requirement already satisfied: zipp>=0.5 in /usr/local/lib/python3.7/dist-packages (from importlib-metadata>=4.4->markdown>=2.6.8->tb-nightly~=2.8.0.a->tf-nightly-gpu==2.8.0.dev20211106) (3.7.0)\n",
            "Requirement already satisfied: pyasn1<0.5.0,>=0.4.6 in /usr/local/lib/python3.7/dist-packages (from pyasn1-modules>=0.2.1->google-auth<3,>=1.6.3->tb-nightly~=2.8.0.a->tf-nightly-gpu==2.8.0.dev20211106) (0.4.8)\n",
            "Requirement already satisfied: urllib3!=1.25.0,!=1.25.1,<1.26,>=1.21.1 in /usr/local/lib/python3.7/dist-packages (from requests<3,>=2.21.0->tb-nightly~=2.8.0.a->tf-nightly-gpu==2.8.0.dev20211106) (1.24.3)\n",
            "Requirement already satisfied: idna<3,>=2.5 in /usr/local/lib/python3.7/dist-packages (from requests<3,>=2.21.0->tb-nightly~=2.8.0.a->tf-nightly-gpu==2.8.0.dev20211106) (2.10)\n",
            "Requirement already satisfied: certifi>=2017.4.17 in /usr/local/lib/python3.7/dist-packages (from requests<3,>=2.21.0->tb-nightly~=2.8.0.a->tf-nightly-gpu==2.8.0.dev20211106) (2021.10.8)\n",
            "Requirement already satisfied: chardet<4,>=3.0.2 in /usr/local/lib/python3.7/dist-packages (from requests<3,>=2.21.0->tb-nightly~=2.8.0.a->tf-nightly-gpu==2.8.0.dev20211106) (3.0.4)\n",
            "Requirement already satisfied: oauthlib>=3.0.0 in /usr/local/lib/python3.7/dist-packages (from requests-oauthlib>=0.7.0->google-auth-oauthlib<0.5,>=0.4.1->tb-nightly~=2.8.0.a->tf-nightly-gpu==2.8.0.dev20211106) (3.2.0)\n",
            "Installing collected packages: tf-estimator-nightly, tb-nightly, keras-nightly, gast, tf-nightly-gpu\n",
            "  Attempting uninstall: gast\n",
            "    Found existing installation: gast 0.5.3\n",
            "    Uninstalling gast-0.5.3:\n",
            "      Successfully uninstalled gast-0.5.3\n",
            "Successfully installed gast-0.4.0 keras-nightly-2.8.0.dev2021122108 tb-nightly-2.8.0a20220120 tf-estimator-nightly-2.8.0.dev2021122109 tf-nightly-gpu-2.8.0.dev20211106\n"
          ]
        }
      ],
      "source": [
        "! pip install kaggle\n",
        "! mkdir dataset\n",
        "! pip install --upgrade --force-reinstall --no-deps kaggle\n",
        "!pip install tf-nightly-gpu==2.8.0.dev20211106"
      ]
    },
    {
      "cell_type": "code",
      "source": [
        "# data processing\n",
        "import numpy as np\n",
        "import pandas as pd\n",
        "\n",
        "from math import sqrt\n",
        "\n",
        "# Machine learning library\n",
        "from sklearn.metrics import mean_squared_error \n",
        "from sklearn.neighbors import KNeighborsRegressor\n",
        "from sklearn.ensemble import RandomForestRegressor\n",
        "from sklearn.ensemble import BaggingRegressor\n",
        "from sklearn.linear_model import Ridge\n",
        "from sklearn.linear_model import LinearRegression\n",
        "from sklearn.model_selection import KFold\n",
        "from sklearn.feature_selection import RFE\n",
        "from sklearn.model_selection import GridSearchCV\n",
        "from sklearn import linear_model\n",
        "\n",
        "%pip install mlxtend --upgrade\n",
        "from mlxtend.evaluate import bias_variance_decomp\n",
        "\n",
        "# data visualizations\n",
        "import matplotlib.pyplot as plt\n",
        "import seaborn as sns\n",
        "\n",
        "import warnings\n",
        "warnings.filterwarnings(\"ignore\")\n"
      ],
      "metadata": {
        "id": "JpKwKX-PBUM3",
        "colab": {
          "base_uri": "https://localhost:8080/"
        },
        "outputId": "a157f95b-8c48-4c93-ea93-d50862f26fb2"
      },
      "execution_count": 2,
      "outputs": [
        {
          "output_type": "stream",
          "name": "stdout",
          "text": [
            "Requirement already satisfied: mlxtend in /usr/local/lib/python3.7/dist-packages (0.14.0)\n",
            "Collecting mlxtend\n",
            "  Downloading mlxtend-0.19.0-py2.py3-none-any.whl (1.3 MB)\n",
            "\u001b[K     |████████████████████████████████| 1.3 MB 2.1 MB/s \n",
            "\u001b[?25hRequirement already satisfied: scikit-learn>=0.20.3 in /usr/local/lib/python3.7/dist-packages (from mlxtend) (1.0.2)\n",
            "Requirement already satisfied: joblib>=0.13.2 in /usr/local/lib/python3.7/dist-packages (from mlxtend) (1.1.0)\n",
            "Requirement already satisfied: pandas>=0.24.2 in /usr/local/lib/python3.7/dist-packages (from mlxtend) (1.3.5)\n",
            "Requirement already satisfied: scipy>=1.2.1 in /usr/local/lib/python3.7/dist-packages (from mlxtend) (1.4.1)\n",
            "Requirement already satisfied: numpy>=1.16.2 in /usr/local/lib/python3.7/dist-packages (from mlxtend) (1.21.5)\n",
            "Requirement already satisfied: matplotlib>=3.0.0 in /usr/local/lib/python3.7/dist-packages (from mlxtend) (3.2.2)\n",
            "Requirement already satisfied: setuptools in /usr/local/lib/python3.7/dist-packages (from mlxtend) (57.4.0)\n",
            "Requirement already satisfied: cycler>=0.10 in /usr/local/lib/python3.7/dist-packages (from matplotlib>=3.0.0->mlxtend) (0.11.0)\n",
            "Requirement already satisfied: pyparsing!=2.0.4,!=2.1.2,!=2.1.6,>=2.0.1 in /usr/local/lib/python3.7/dist-packages (from matplotlib>=3.0.0->mlxtend) (3.0.7)\n",
            "Requirement already satisfied: python-dateutil>=2.1 in /usr/local/lib/python3.7/dist-packages (from matplotlib>=3.0.0->mlxtend) (2.8.2)\n",
            "Requirement already satisfied: kiwisolver>=1.0.1 in /usr/local/lib/python3.7/dist-packages (from matplotlib>=3.0.0->mlxtend) (1.4.0)\n",
            "Requirement already satisfied: typing-extensions in /usr/local/lib/python3.7/dist-packages (from kiwisolver>=1.0.1->matplotlib>=3.0.0->mlxtend) (3.10.0.2)\n",
            "Requirement already satisfied: pytz>=2017.3 in /usr/local/lib/python3.7/dist-packages (from pandas>=0.24.2->mlxtend) (2018.9)\n",
            "Requirement already satisfied: six>=1.5 in /usr/local/lib/python3.7/dist-packages (from python-dateutil>=2.1->matplotlib>=3.0.0->mlxtend) (1.15.0)\n",
            "Requirement already satisfied: threadpoolctl>=2.0.0 in /usr/local/lib/python3.7/dist-packages (from scikit-learn>=0.20.3->mlxtend) (3.1.0)\n",
            "Installing collected packages: mlxtend\n",
            "  Attempting uninstall: mlxtend\n",
            "    Found existing installation: mlxtend 0.14.0\n",
            "    Uninstalling mlxtend-0.14.0:\n",
            "      Successfully uninstalled mlxtend-0.14.0\n",
            "Successfully installed mlxtend-0.19.0\n"
          ]
        }
      ]
    },
    {
      "cell_type": "markdown",
      "source": [
        "Reading the dataset from csv"
      ],
      "metadata": {
        "id": "JpkLjcnXnP46"
      }
    },
    {
      "cell_type": "code",
      "source": [
        "data_0 = pd.read_csv('Credit.csv', index_col='Unnamed: 0')\n",
        "#data_1 = pd.read_csv('healthcare-dataset-stroke-data.csv', index_col='id')\n",
        "# data_2 = pd.read_csv('house.csv', index_col='Id')\n",
        "# cols = [\"OverallQual\",\"GrLivArea\",\"GarageCars\",\"GarageArea\",\"TotalBsmtSF\",\"FullBath\",\"YearBuilt\",\"YearRemodAdd\",\n",
        "#         \"LotFrontage\",\"MSSubClass\", \"SalePrice\"]\n",
        "# data_2 = data_2[cols]\n",
        "# data_3 = pd.read_csv('winequality-red.csv')\n",
        "# data_4 = pd.read_csv('bodyfat.csv')\n",
        "# data = data_3.replace(to_replace=np.nan, value=0)\n",
        "data = data_0\n",
        "variance = []\n",
        "bias = []\n",
        "mse = []\n",
        "rmse = []"
      ],
      "metadata": {
        "id": "OHjF55Kp-H-H"
      },
      "execution_count": 3,
      "outputs": []
    },
    {
      "cell_type": "markdown",
      "source": [
        "Label Encoder for replacing the categorical value with a numeric value between 0 and the number of classes minus 1"
      ],
      "metadata": {
        "id": "IkKQq2eKm2v1"
      }
    },
    {
      "cell_type": "code",
      "source": [
        "from sklearn import preprocessing\n",
        "\n",
        "le = preprocessing.LabelEncoder()\n",
        "\n",
        "columnsToEncode = list(data.select_dtypes(include=['category','object']))\n",
        "for feature in columnsToEncode:\n",
        "    try:\n",
        "        data[feature] = le.fit_transform(data[feature])\n",
        "    except:\n",
        "        print('Error encoding ' + feature)"
      ],
      "metadata": {
        "id": "TsEp_UrMnxtd"
      },
      "execution_count": 4,
      "outputs": []
    },
    {
      "cell_type": "markdown",
      "source": [
        "Split the data to train and validation set (80/20)"
      ],
      "metadata": {
        "id": "biMMtTi5mgqZ"
      }
    },
    {
      "cell_type": "code",
      "source": [
        "from sklearn.model_selection import train_test_split\n",
        "\n",
        "# print(data.isna().sum())\n",
        "train, valid = train_test_split(data, test_size=0.2)\n",
        "# train[\"LotFrontage\"] = train[\"LotFrontage\"].fillna(train[\"LotFrontage\"].mean())\n",
        "# valid[\"LotFrontage\"] = valid[\"LotFrontage\"].fillna(train[\"LotFrontage\"].mean())\n",
        "# separate X from y\n",
        "size = len(train.columns)\n",
        "x_train = train.iloc[: , :-1]\n",
        "x_valid = valid.iloc[: , :-1]\n",
        "\n",
        "y_train = train.iloc[: , -1:]\n",
        "y_valid = valid.iloc[: , -1:]"
      ],
      "metadata": {
        "id": "lMT39o2WmdJK"
      },
      "execution_count": 5,
      "outputs": []
    },
    {
      "cell_type": "code",
      "source": [
        "# ------------------\n",
        "# KNN PART (Regressor)\n",
        "# ------------------\n",
        "\n",
        "model_a = KNeighborsRegressor(n_neighbors=25)\n",
        "m, b, v = bias_variance_decomp(model_a, x_train.values, y_train.values.flatten(),\n",
        "                               x_valid.values, y_valid.values, loss='mse',\n",
        "                               num_rounds=200, random_seed=123)\n",
        "\n",
        "bias = np.append(bias, b)\n",
        "variance = np.append(variance,v)\n",
        "mse = np.append(mse,m)\n",
        "\n",
        "print(\"Bias is: \", b/(len(y_valid)))\n",
        "print(\"Variance is: \", v)\n",
        "\n",
        "model_a.fit(x_train, y_train)\n",
        "predicts = model_a.predict(x_valid)\n",
        "print(\"Mean: \", predicts.mean())\n",
        "error = sqrt(mean_squared_error(y_valid, predicts))\n",
        "print(\"Error rate: \", error)\n",
        "rmse = np.append(rmse,error)\n",
        "\n",
        "#plt.scatter(x_valid.values.T, y_valid.values.reshape(80,1), color=\"black\")\n",
        "fig, ax = plt.subplots(figsize=(8,5))\n",
        "sns.scatterplot(np.asarray(y_valid).reshape(-1), np.asarray(predicts).reshape(-1), ax=ax)\n",
        "sns.lineplot(np.asarray(y_valid).reshape(-1),np.asarray(y_valid).reshape(-1),ax=ax,color='black')\n",
        "ax.set_title(\"KNN\")\n",
        "\n",
        "plt.show()"
      ],
      "metadata": {
        "id": "8Q4plTpUtmkX",
        "colab": {
          "base_uri": "https://localhost:8080/",
          "height": 405
        },
        "outputId": "7911d367-3b8f-4426-cdae-da259391c0f8"
      },
      "execution_count": 6,
      "outputs": [
        {
          "output_type": "stream",
          "name": "stdout",
          "text": [
            "Bias is:  381512.263639549\n",
            "Variance is:  2233.7751621885\n",
            "Mean:  477.601\n",
            "Error rate:  206.3786099865972\n"
          ]
        },
        {
          "output_type": "display_data",
          "data": {
            "text/plain": [
              "<Figure size 576x360 with 1 Axes>"
            ],
            "image/png": "[encoded data removed]"
          },
          "metadata": {
            "needs_background": "light"
          }
        }
      ]
    },
    {
      "cell_type": "code",
      "source": [
        "# ------------------\n",
        "# RANDOM FOREST PART\n",
        "# ------------------\n",
        "\n",
        "model_b = RandomForestRegressor(n_estimators=100, random_state=10)\n",
        "\n",
        "model_b.fit(x_train, y_train)\n",
        "\n",
        "predicts = model_b.predict(x_valid)\n",
        "print(\"Mean: \", predicts.mean())\n",
        "\n",
        "m2, b2, v2 = bias_variance_decomp(model_b, x_train.values, y_train.values.flatten(), \n",
        "                                  x_valid.values, y_valid.values, loss='mse', \n",
        "                                  num_rounds=200, random_seed=123)\n",
        "\n",
        "bias = np.append(bias, b2)\n",
        "variance = np.append(variance,v2)\n",
        "print(\"Bias is: \", b2/(len(y_valid)))\n",
        "print(\"Variance is: \", v2)\n",
        "\n",
        "\n",
        "error = sqrt(mean_squared_error(y_valid, predicts))\n",
        "print(\"Error rate: \", error)\n",
        "mse = np.append(mse,m2)\n",
        "rmse = np.append(rmse,error)\n",
        "\n",
        "fig, ax = plt.subplots(figsize=(8,5))\n",
        "sns.scatterplot(np.asarray(y_valid).reshape(-1), predicts, ax=ax)\n",
        "sns.lineplot(x = np.asarray(y_valid).reshape(-1), y = np.asarray(y_valid).reshape(-1), ax=ax,color='black')\n",
        "ax.set_title(\"Random Forest\")\n",
        "\n",
        "plt.show()\n",
        "\n",
        "print(\"Variance Reduction:\", str(np.round((v2/v-1)*100,2))+ '%')\n",
        "print(\"At the expense of introducing bias:\", str(np.round((b2/b-1)*100, 2)) + '%')"
      ],
      "metadata": {
        "id": "ryCV_K04oVBA",
        "colab": {
          "base_uri": "https://localhost:8080/",
          "height": 440
        },
        "outputId": "6cb6db96-75eb-4965-b007-fd594cb9a4a8"
      },
      "execution_count": 7,
      "outputs": [
        {
          "output_type": "stream",
          "name": "stdout",
          "text": [
            "Mean:  500.286375\n",
            "Bias is:  416685.5944828172\n",
            "Variance is:  3580.1517212421563\n",
            "Error rate:  107.78337837417233\n"
          ]
        },
        {
          "output_type": "display_data",
          "data": {
            "text/plain": [
              "<Figure size 576x360 with 1 Axes>"
            ],
            "image/png": "[encoded data removed]"
          },
          "metadata": {
            "needs_background": "light"
          }
        },
        {
          "output_type": "stream",
          "name": "stdout",
          "text": [
            "Variance Reduction: 60.27%\n",
            "At the expense of introducing bias: 9.22%\n"
          ]
        }
      ]
    },
    {
      "cell_type": "code",
      "source": [
        "# -----------------\n",
        "# L1 REGULARIZATION\n",
        "# -----------------\n",
        "\n",
        "model_e = linear_model.Lasso(alpha=0.01)\n",
        "model_e.fit(x_train, y_train)\n",
        "y_score = model_e.predict(x_valid)\n",
        "\n",
        "m3, b3, v3 = bias_variance_decomp(model_e, x_train.values, y_train.values.flatten(), x_valid.values, y_valid.values, loss='mse', num_rounds=200, random_seed=123)\n",
        "bias = np.append(bias, b3)\n",
        "variance = np.append(variance,v3)\n",
        "print(\"Bias is: \", b3/(len(y_valid)))\n",
        "print(\"Variance is: \", v3)\n",
        "\n",
        "print(\"Mean: \", y_score.mean())\n",
        "error_lin = sqrt(mean_squared_error(y_valid, y_score))\n",
        "print(\"Error rate: \", error_lin)\n",
        "mse = np.append(mse,m3)\n",
        "rmse = np.append(rmse,error_lin)\n",
        "\n",
        "fig, ax = plt.subplots(figsize=(8,5))\n",
        "sns.scatterplot(np.asarray(y_valid).reshape(-1), np.asarray(y_score).reshape(-1), ax=ax)\n",
        "sns.lineplot(np.asarray(y_valid).reshape(-1), np.asarray(y_valid).reshape(-1), ax=ax,color='black')\n",
        "ax.set_title(\"L1 Regularization\")\n",
        "\n",
        "plt.show()\n",
        "\n",
        "print(\"Variance Reduction:\", str(np.round((v3/v-1)*100,2))+ '%')\n",
        "print(\"At the expense of introducing bias:\", str(np.round((b3/b-1)*100, 2)) + '%')"
      ],
      "metadata": {
        "id": "3cTSVkXIAdN6",
        "colab": {
          "base_uri": "https://localhost:8080/",
          "height": 440
        },
        "outputId": "f42a1606-dd01-4c09-ea55-ec04d3d75fc4"
      },
      "execution_count": 8,
      "outputs": [
        {
          "output_type": "stream",
          "name": "stdout",
          "text": [
            "Bias is:  434860.5600966566\n",
            "Variance is:  360.86871118054495\n",
            "Mean:  486.3909577660196\n",
            "Error rate:  107.00523245554032\n"
          ]
        },
        {
          "output_type": "display_data",
          "data": {
            "text/plain": [
              "<Figure size 576x360 with 1 Axes>"
            ],
            "image/png": "[encoded data removed]"
          },
          "metadata": {
            "needs_background": "light"
          }
        },
        {
          "output_type": "stream",
          "name": "stdout",
          "text": [
            "Variance Reduction: -83.84%\n",
            "At the expense of introducing bias: 13.98%\n"
          ]
        }
      ]
    },
    {
      "cell_type": "code",
      "source": [
        "# -----------------\n",
        "# L2 REGULARIZATION\n",
        "# -----------------\n",
        "\n",
        "model_c = Ridge()\n",
        "model_c.fit(x_train, y_train)\n",
        "\n",
        "# predict values of x_valid\n",
        "y_score = model_c.predict(x_valid)\n",
        "error_lin = sqrt(mean_squared_error(y_valid, y_score))\n",
        "\n",
        "m4, b4, v4 = bias_variance_decomp(model_c, x_train.values, y_train.values.flatten(), x_valid.values, y_valid.values, loss='mse', num_rounds=200, random_seed=123)\n",
        "bias = np.append(bias, b4)\n",
        "variance = np.append(variance,v4)\n",
        "print(\"Bias is: \", b4/(len(y_valid)))\n",
        "print(\"Variance is: \", v4)\n",
        "\n",
        "print(\"Mean: \", y_score.mean())\n",
        "error_lin = sqrt(mean_squared_error(y_valid, y_score))\n",
        "print(\"Error rate: \", error_lin)\n",
        "rmse = np.append(rmse,error_lin)\n",
        "mse = np.append(mse,m4)\n",
        "\n",
        "fig, ax = plt.subplots(figsize=(8,5))\n",
        "sns.scatterplot(np.asarray(y_valid).reshape(-1), np.asarray(y_score).reshape(-1), ax=ax)\n",
        "sns.lineplot(np.asarray(y_valid).reshape(-1), np.asarray(y_valid).reshape(-1), ax=ax,color='black')\n",
        "ax.set_title(\"L2 Regularization\")\n",
        "\n",
        "plt.show()\n",
        "\n",
        "print(\"Variance Reduction:\", str(np.round((v4/v-1)*100,2))+ '%')\n",
        "print(\"At the expense of introducing bias:\", str(np.round((b4/b-1)*100, 2)) + '%')"
      ],
      "metadata": {
        "id": "cnksTQGeAUDN",
        "colab": {
          "base_uri": "https://localhost:8080/",
          "height": 440
        },
        "outputId": "2061e936-b3b7-4a9e-ff1f-f1a43aa5bbe0"
      },
      "execution_count": 9,
      "outputs": [
        {
          "output_type": "stream",
          "name": "stdout",
          "text": [
            "Bias is:  434061.8133762951\n",
            "Variance is:  358.39187034186926\n",
            "Mean:  486.4092707036925\n",
            "Error rate:  106.53369903066726\n"
          ]
        },
        {
          "output_type": "display_data",
          "data": {
            "text/plain": [
              "<Figure size 576x360 with 1 Axes>"
            ],
            "image/png": "[encoded data removed]"
          },
          "metadata": {
            "needs_background": "light"
          }
        },
        {
          "output_type": "stream",
          "name": "stdout",
          "text": [
            "Variance Reduction: -83.96%\n",
            "At the expense of introducing bias: 13.77%\n"
          ]
        }
      ]
    },
    {
      "cell_type": "code",
      "source": [
        "# ------------------------------------\n",
        "# BAGGING (Bootstrap aggregating) PART\n",
        "# ------------------------------------\n",
        "\n",
        "regr = BaggingRegressor(base_estimator=None, n_estimators=100, random_state=1)\n",
        "regr.fit(x_train, y_train)\n",
        "y_score = regr.predict(x_valid)\n",
        "\n",
        "m5, b5, v5 = bias_variance_decomp(regr, x_train.values, y_train.values.flatten(), \n",
        "                                  x_valid.values, y_valid.values, loss='mse', \n",
        "                                  num_rounds=200, random_seed=123)\n",
        "bias = np.append(bias, b5)\n",
        "variance = np.append(variance,v5)\n",
        "print(\"Bias is: \", b5/(len(y_valid)))\n",
        "print(\"Variance is: \", v5)\n",
        "\n",
        "print(\"Mean: \", y_score.mean())\n",
        "error_lin = sqrt(mean_squared_error(y_valid, y_score))\n",
        "print(\"Error rate: \", error_lin)\n",
        "rmse = np.append(rmse,error_lin)\n",
        "mse = np.append(mse,m5)\n",
        "\n",
        "fig, ax = plt.subplots(figsize=(8,5))\n",
        "sns.scatterplot(np.asarray(y_valid).reshape(-1), np.asarray(y_score).reshape(-1), ax=ax)\n",
        "sns.lineplot(np.asarray(y_valid).reshape(-1), np.asarray(y_valid).reshape(-1), ax=ax,color='black')\n",
        "ax.set_title(\"Bagging\")\n",
        "\n",
        "plt.show()\n",
        "\n",
        "print(\"Variance Reduction:\", str(np.round((v5/v-1)*100,2))+ '%')\n",
        "print(\"At the expense of introducing bias:\", str(np.round((b5/b-1)*100, 2)) + '%')"
      ],
      "metadata": {
        "id": "FUZ47C1Y5hYa",
        "colab": {
          "base_uri": "https://localhost:8080/",
          "height": 440
        },
        "outputId": "9ab3a5f3-af62-471c-abac-5890893829ae"
      },
      "execution_count": 10,
      "outputs": [
        {
          "output_type": "stream",
          "name": "stdout",
          "text": [
            "Bias is:  416751.3551219688\n",
            "Variance is:  3582.609853115594\n",
            "Mean:  500.726875\n",
            "Error rate:  106.18300308312061\n"
          ]
        },
        {
          "output_type": "display_data",
          "data": {
            "text/plain": [
              "<Figure size 576x360 with 1 Axes>"
            ],
            "image/png": "[encoded data removed]"
          },
          "metadata": {
            "needs_background": "light"
          }
        },
        {
          "output_type": "stream",
          "name": "stdout",
          "text": [
            "Variance Reduction: 60.38%\n",
            "At the expense of introducing bias: 9.24%\n"
          ]
        }
      ]
    },
    {
      "cell_type": "code",
      "source": [
        "# ---------------------\n",
        "# CROSS VALIDATION PART\n",
        "# ---------------------\n",
        "\n",
        "feat_num = len(x_train.columns)\n",
        "# Create a cross-validation scheme\n",
        "cv = KFold(n_splits=5, random_state=10, shuffle=True)\n",
        "\n",
        "# Specify range of hyperparameters to tune\n",
        "hyper_params = [{'n_features_to_select': list(range(1, feat_num + 1))}]\n",
        "\n",
        "# Perform grid search\n",
        "# 1. specify model\n",
        "\n",
        "lin_mod = LinearRegression()\n",
        "lin_mod.fit(x_train, y_train)\n",
        "rfe = RFE(lin_mod) \n",
        "\n",
        "# 2. call GridSearchCV()\n",
        "model_cv = GridSearchCV(estimator=rfe, param_grid=hyper_params, scoring='r2',\n",
        "                        cv=cv, verbose=1, return_train_score=True)      \n",
        "# fit the model\n",
        "model_cv.fit(x_train, y_train)\n",
        "\n",
        "# cv results\n",
        "cv_results = pd.DataFrame(model_cv.cv_results_)\n",
        "result = model_cv.fit(x_train, y_train)\n",
        "\n",
        "# summarize result\n",
        "print('Best Score: %s' % result.best_score_)\n",
        "print('Best Hyperparameters: %s' % result.best_params_)\n"
      ],
      "metadata": {
        "id": "zUKdeHnSAMZN",
        "colab": {
          "base_uri": "https://localhost:8080/"
        },
        "outputId": "fe4c61b8-18ff-4d6f-d435-24fa125939ab"
      },
      "execution_count": 11,
      "outputs": [
        {
          "output_type": "stream",
          "name": "stdout",
          "text": [
            "Fitting 5 folds for each of 10 candidates, totalling 50 fits\n",
            "Fitting 5 folds for each of 10 candidates, totalling 50 fits\n",
            "Best Score: 0.951173945780034\n",
            "Best Hyperparameters: {'n_features_to_select': 10}\n"
          ]
        }
      ]
    },
    {
      "cell_type": "markdown",
      "source": [
        "So our Cross-Validation model will have 10 features (the number that we got for current run)"
      ],
      "metadata": {
        "id": "ucG7SqthmIks"
      }
    },
    {
      "cell_type": "code",
      "source": [
        "# final model\n",
        "n_features_optimal = 10\n",
        "lin_mod = LinearRegression()\n",
        "lin_mod.fit(x_train, y_train)\n",
        "\n",
        "rfe = RFE(lin_mod, n_features_to_select=n_features_optimal)           \n",
        "rfe = rfe.fit(x_train, y_train)\n",
        "\n",
        "# predict values of x_valid\n",
        "y_score = rfe.predict(x_valid)\n",
        "error_lin = sqrt(mean_squared_error(y_valid, y_score))\n",
        "\n",
        "m6, b6, v6 = bias_variance_decomp(rfe, x_train.values, y_train.values.flatten(), x_valid.values, y_valid.values, loss='mse', num_rounds=200, random_seed=123)\n",
        "bias = np.append(bias, b6)\n",
        "variance = np.append(variance,v6)\n",
        "rmse = np.append(rmse,error_lin)\n",
        "mse = np.append(mse,m6)\n",
        "print(\"Bias is: \", b6/(len(y_valid)))\n",
        "print(\"Variance is: \", v6)\n",
        "\n",
        "print(\"Mean: \", y_score.mean())\n",
        "error_lin = sqrt(mean_squared_error(y_valid, y_score))\n",
        "print(\"Error rate: \", error_lin)\n",
        "\n",
        "fig, ax = plt.subplots(figsize=(8,5))\n",
        "sns.scatterplot(np.asarray(y_valid).reshape(-1), np.asarray(y_score).reshape(-1), ax=ax)\n",
        "sns.lineplot(np.asarray(y_valid).reshape(-1), np.asarray(y_valid).reshape(-1), ax=ax,color='black')\n",
        "ax.set_title(\"Cross-Validation\")\n",
        "\n",
        "plt.show()\n",
        "\n",
        "print(\"Variance Reduction:\", str(np.round((v6/v-1)*100,2))+ '%')\n",
        "print(\"At the expense of introducing bias:\", str(np.round((b6/b-1)*100, 2)) + '%')"
      ],
      "metadata": {
        "id": "UROLyMvimF0P",
        "colab": {
          "base_uri": "https://localhost:8080/",
          "height": 440
        },
        "outputId": "cc385517-7463-46be-c5ae-4ed87ace8a86"
      },
      "execution_count": 12,
      "outputs": [
        {
          "output_type": "stream",
          "name": "stdout",
          "text": [
            "Bias is:  434844.98390278005\n",
            "Variance is:  362.6018598098911\n",
            "Mean:  486.39200731613835\n",
            "Error rate:  107.00320860754726\n"
          ]
        },
        {
          "output_type": "display_data",
          "data": {
            "text/plain": [
              "<Figure size 576x360 with 1 Axes>"
            ],
            "image/png": "[encoded data removed]"
          },
          "metadata": {
            "needs_background": "light"
          }
        },
        {
          "output_type": "stream",
          "name": "stdout",
          "text": [
            "Variance Reduction: -83.77%\n",
            "At the expense of introducing bias: 13.98%\n"
          ]
        }
      ]
    },
    {
      "cell_type": "code",
      "source": [
        "# -------------------------------------\n",
        "# CROSS VALIDATION + RANDOM FOREST PART\n",
        "# -------------------------------------\n",
        "\n",
        "feat_num = len(x_train.columns)\n",
        "# Create a cross-validation scheme\n",
        "cv = KFold(n_splits=5, random_state=10, shuffle=True)\n",
        "\n",
        "# Specify range of hyperparameters to tune\n",
        "hyper_params = [{'n_features_to_select': list(range(1, feat_num + 1))}]\n",
        "\n",
        "# Perform grid search\n",
        "# 1. specify model\n",
        "rfe = RFE(model_b) \n",
        "\n",
        "# 2. call GridSearchCV()\n",
        "model_cv = GridSearchCV(estimator = rfe, \n",
        "                        param_grid = hyper_params, \n",
        "                        scoring= 'r2', \n",
        "                        cv = cv, \n",
        "                        verbose = 1,\n",
        "                        return_train_score=True)  \n",
        "model_cv.fit(x_train, y_train)\n",
        "\n",
        "# cv results\n",
        "cv_results = pd.DataFrame(model_cv.cv_results_)\n",
        "\n",
        "result = model_cv.fit(x_train, y_train)\n",
        "\n",
        "# summarize result\n",
        "print('Best Score: %s' % result.best_score_)\n",
        "print('Best Hyperparameters: %s' % result.best_params_)\n"
      ],
      "metadata": {
        "id": "hRDEDoEDD8xH",
        "colab": {
          "base_uri": "https://localhost:8080/"
        },
        "outputId": "ae4bdf37-ecd8-4d1c-d956-bd8ae32910c8"
      },
      "execution_count": 13,
      "outputs": [
        {
          "output_type": "stream",
          "name": "stdout",
          "text": [
            "Fitting 5 folds for each of 10 candidates, totalling 50 fits\n",
            "Fitting 5 folds for each of 10 candidates, totalling 50 fits\n",
            "Best Score: 0.9472580207162746\n",
            "Best Hyperparameters: {'n_features_to_select': 4}\n"
          ]
        }
      ]
    },
    {
      "cell_type": "markdown",
      "source": [
        "So our Cross-Validation & Random Forest model will have 4 features (the number that we got for current run)"
      ],
      "metadata": {
        "id": "I1C33lwXmlgg"
      }
    },
    {
      "cell_type": "code",
      "source": [
        "n_features_optimal = 4\n",
        "\n",
        "rfe = RFE(model_b, n_features_to_select=n_features_optimal)            \n",
        "rfe = rfe.fit(x_train, y_train)\n",
        "\n",
        "# predict values of x_valid\n",
        "y_score = rfe.predict(x_valid)\n",
        "\n",
        "print(\"Mean: \", y_score.mean())\n",
        "error_lin = sqrt(mean_squared_error(y_valid, y_score))\n",
        "print(\"Error rate: \", error_lin)\n",
        "\n",
        "m7, b7, v7 = bias_variance_decomp(rfe, x_train.values, y_train.values.flatten(), x_valid.values, y_valid.values, loss='mse', num_rounds=200, random_seed=123)\n",
        "bias = np.append(bias, b7)\n",
        "variance = np.append(variance,v7)\n",
        "rmse = np.append(rmse,error_lin)\n",
        "mse = np.append(mse,m7)\n",
        "print(\"Bias is: \", b7/(len(y_valid)))\n",
        "print(\"Variance is: \", v7)\n",
        "\n",
        "fig, ax = plt.subplots(figsize=(8,5))\n",
        "sns.scatterplot(np.asarray(y_valid).reshape(-1), np.asarray(y_score).reshape(-1), ax=ax)\n",
        "sns.lineplot(np.asarray(y_valid).reshape(-1), np.asarray(y_valid).reshape(-1), ax=ax,color='black')\n",
        "ax.set_title(\"Cross-Validation & Random Forest\")\n",
        "\n",
        "plt.show()\n",
        "\n",
        "print(\"Variance Reduction:\", str(np.round((v7/v-1)*100,2))+ '%')\n",
        "print(\"At the expense of introducing bias:\", str(np.round((b7/b-1)*100, 2)) + '%')"
      ],
      "metadata": {
        "id": "7ch1w5SPmiYR",
        "colab": {
          "base_uri": "https://localhost:8080/",
          "height": 440
        },
        "outputId": "15172d88-2c07-4da4-df18-cc6c6df9b4c8"
      },
      "execution_count": 14,
      "outputs": [
        {
          "output_type": "stream",
          "name": "stdout",
          "text": [
            "Mean:  502.64775\n",
            "Error rate:  92.35345886863144\n",
            "Bias is:  423489.95824721066\n",
            "Variance is:  3352.080109764313\n"
          ]
        },
        {
          "output_type": "display_data",
          "data": {
            "text/plain": [
              "<Figure size 576x360 with 1 Axes>"
            ],
            "image/png": "[encoded data removed]"
          },
          "metadata": {
            "needs_background": "light"
          }
        },
        {
          "output_type": "stream",
          "name": "stdout",
          "text": [
            "Variance Reduction: 50.06%\n",
            "At the expense of introducing bias: 11.0%\n"
          ]
        }
      ]
    },
    {
      "cell_type": "markdown",
      "source": [
        "The A, B, C, D, E, F, G labels are state for Knn, Random Forest, Regularization 1, Regularization 2, Bagging, Cross-validation, Cross-validation + Random Forest"
      ],
      "metadata": {
        "id": "dJzc9TYNnirr"
      }
    },
    {
      "cell_type": "code",
      "source": [
        "bias1 = np.sqrt(bias/(len(y_valid)))\n",
        "\n",
        "# Set position of bar on X axis\n",
        "barWidth = 0.25\n",
        "\n",
        "r1 = np.arange(len(bias))\n",
        "r2 = [x + barWidth for x in r1]\n",
        "r3 = [x + barWidth for x in r2]\n",
        "\n",
        "# Make the plot\n",
        "plt.bar(r1, bias1, color='#7f6d5f', width=barWidth, edgecolor='white', label='bias')\n",
        "plt.bar(r2, variance, color='#557f2d', width=barWidth, edgecolor='white', label='variance')\n",
        "plt.bar(r3, np.sqrt(mse), color='#6749fc', width=barWidth, edgecolor='white', label='rmse')\n",
        "\n",
        "# Add xticks on the middle of the group bars\n",
        "plt.xlabel('group', fontweight='bold')\n",
        "labels = ['Knn','Random Forest','Regularizarion1','Regularizarion2','Bagging','Cross-validation','Cross-validation + Random Forest']\n",
        "plt.xticks([r + barWidth for r in range(len(bias))], ['A', 'B', 'C', 'D', 'E','F','G'])\n",
        " \n",
        "# Create legend & Show graphic\n",
        "plt.legend()\n",
        "plt.show()"
      ],
      "metadata": {
        "id": "KlXpNJj9mPBs",
        "colab": {
          "base_uri": "https://localhost:8080/",
          "height": 279
        },
        "outputId": "8fae209c-903b-4891-a6e4-db8f6c6257ed"
      },
      "execution_count": 15,
      "outputs": [
        {
          "output_type": "display_data",
          "data": {
            "text/plain": [
              "<Figure size 432x288 with 1 Axes>"
            ],
            "image/png": "[encoded data removed]"
          },
          "metadata": {
            "needs_background": "light"
          }
        }
      ]
    },
    {
      "cell_type": "code",
      "source": [
        "barWidth = 0.25\n",
        "\n",
        "r1 = np.arange(len(bias))\n",
        "\n",
        "# Make the plot\n",
        "plt.bar(r1, bias1, color='#7f6d5f', width=barWidth, edgecolor='white', label='bias')\n",
        "# Add xticks on the middle of the group bars\n",
        "plt.xlabel('group', fontweight='bold')\n",
        "plt.xticks([r + barWidth for r in range(len(bias))], ['A', 'B', 'C', 'D', 'E','F','G'])\n",
        " \n",
        "# Create legend & Show graphic\n",
        "plt.legend()\n",
        "plt.show()"
      ],
      "metadata": {
        "id": "Quod1_zNh3si",
        "colab": {
          "base_uri": "https://localhost:8080/",
          "height": 279
        },
        "outputId": "8688d8af-f600-4474-f9ae-fe2e95db3b1a"
      },
      "execution_count": 16,
      "outputs": [
        {
          "output_type": "display_data",
          "data": {
            "text/plain": [
              "<Figure size 432x288 with 1 Axes>"
            ],
            "image/png": "[encoded data removed]"
          },
          "metadata": {
            "needs_background": "light"
          }
        }
      ]
    },
    {
      "cell_type": "code",
      "source": [
        "barWidth = 0.25\n",
        " \n",
        "# Make the plot\n",
        "r2 = np.arange(len(variance))\n",
        "r3 = [x + barWidth for x in r2]\n",
        "plt.bar(r2, variance, color='#557f2d', width=barWidth, edgecolor='white', label='variance')\n",
        "plt.bar(r3, np.sqrt(mse), color='#6749fc', width=barWidth, edgecolor='white', label='rmse')\n",
        "\n",
        "\n",
        "# Add xticks on the middle of the group bars\n",
        "plt.xlabel('group', fontweight='bold')\n",
        "plt.xticks([r + barWidth for r in range(len(variance))], ['A', 'B', 'C', 'D', 'E','F','G'])\n",
        " \n",
        "# Create legend & Show graphic\n",
        "plt.legend()\n",
        "plt.show()"
      ],
      "metadata": {
        "id": "2wj4V1ODicfO",
        "colab": {
          "base_uri": "https://localhost:8080/",
          "height": 279
        },
        "outputId": "c6daff74-8464-42b4-ee2c-cccfc1a00179"
      },
      "execution_count": 17,
      "outputs": [
        {
          "output_type": "display_data",
          "data": {
            "text/plain": [
              "<Figure size 432x288 with 1 Axes>"
            ],
            "image/png": "[encoded data removed]"
          },
          "metadata": {
            "needs_background": "light"
          }
        }
      ]
    },
    {
      "cell_type": "code",
      "source": [
        "barWidth = 0.25\n",
        "\n",
        "# Make the plot\n",
        "r2 = np.arange(len(variance))\n",
        "plt.bar(r2, np.sqrt(mse), color='#557f2d', width=barWidth, edgecolor='white', label='rmse')\n",
        "\n",
        "# Add xticks on the middle of the group bars\n",
        "plt.xlabel('group', fontweight='bold')\n",
        "plt.xticks([r + barWidth for r in range(len(variance))], ['A', 'B', 'C', 'D', 'E','F','G'])\n",
        " \n",
        "# Create legend & Show graphic\n",
        "plt.legend()\n",
        "plt.show()"
      ],
      "metadata": {
        "id": "FwOkM0n5719M",
        "colab": {
          "base_uri": "https://localhost:8080/",
          "height": 279
        },
        "outputId": "0492f1f7-66e0-4745-b8dd-d6b7fd053f80"
      },
      "execution_count": 18,
      "outputs": [
        {
          "output_type": "display_data",
          "data": {
            "text/plain": [
              "<Figure size 432x288 with 1 Axes>"
            ],
            "image/png": "[encoded data removed]"
          },
          "metadata": {
            "needs_background": "light"
          }
        }
      ]
    },
    {
      "cell_type": "markdown",
      "source": [
        "After we sorted our results from the best to the worstest, this is the algorithm that we got that performs the best results:"
      ],
      "metadata": {
        "id": "iSAsr_s8nMtP"
      }
    },
    {
      "cell_type": "code",
      "source": [
        "index = [0,1,2,3,4,5,6]\n",
        "\n",
        "rmse,index = zip(*sorted(zip(rmse, index)))\n",
        "min = index[0]\n",
        "\n",
        "\n",
        "print(\"The best algorithm for this dataset is: \", end =\" \")\n",
        "print(labels[min])"
      ],
      "metadata": {
        "id": "rMitoNOMJNYw",
        "colab": {
          "base_uri": "https://localhost:8080/"
        },
        "outputId": "ebcf0f5d-2a7b-46ad-97ae-e1cce4167033"
      },
      "execution_count": 19,
      "outputs": [
        {
          "output_type": "stream",
          "name": "stdout",
          "text": [
            "The best algorithm for this dataset is:  Cross-validation + Random Forest\n"
          ]
        }
      ]
    }
  ]
}